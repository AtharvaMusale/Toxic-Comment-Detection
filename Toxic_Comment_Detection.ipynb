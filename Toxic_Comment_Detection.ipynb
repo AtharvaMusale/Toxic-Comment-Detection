{
  "nbformat": 4,
  "nbformat_minor": 0,
  "metadata": {
    "colab": {
      "name": "Toxic Comment Detection.ipynb",
      "provenance": [],
      "collapsed_sections": [],
      "toc_visible": true
    },
    "kernelspec": {
      "name": "python3",
      "display_name": "Python 3"
    },
    "accelerator": "GPU"
  },
  "cells": [
    {
      "cell_type": "markdown",
      "metadata": {
        "id": "61ZavDPVATRi"
      },
      "source": [
        "\n",
        "# ***Data Aquisition***"
      ]
    },
    {
      "cell_type": "code",
      "metadata": {
        "id": "bfnjEk7p6Wli"
      },
      "source": [
        "! pip install -q kaggle"
      ],
      "execution_count": null,
      "outputs": []
    },
    {
      "cell_type": "code",
      "metadata": {
        "colab": {
          "resources": {
            "http://localhost:8080/nbextensions/google.colab/files.js": {
              "data": "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",
              "ok": true,
              "headers": [
                [
                  "content-type",
                  "application/javascript"
                ]
              ],
              "status": 200,
              "status_text": ""
            }
          },
          "base_uri": "https://localhost:8080/",
          "height": 89
        },
        "id": "R7q23OJ67Nmn",
        "outputId": "3b1e2302-5d92-4404-ca4d-1356539d1ef5"
      },
      "source": [
        " from google.colab import files\n",
        "\n",
        "files.upload()"
      ],
      "execution_count": null,
      "outputs": [
        {
          "output_type": "display_data",
          "data": {
            "text/html": [
              "\n",
              "     <input type=\"file\" id=\"files-2bb1d995-aa8c-42e7-b7fa-a069868a92cf\" name=\"files[]\" multiple disabled\n",
              "        style=\"border:none\" />\n",
              "     <output id=\"result-2bb1d995-aa8c-42e7-b7fa-a069868a92cf\">\n",
              "      Upload widget is only available when the cell has been executed in the\n",
              "      current browser session. Please rerun this cell to enable.\n",
              "      </output>\n",
              "      <script src=\"/nbextensions/google.colab/files.js\"></script> "
            ],
            "text/plain": [
              "<IPython.core.display.HTML object>"
            ]
          },
          "metadata": {
            "tags": []
          }
        },
        {
          "output_type": "stream",
          "text": [
            "Saving kaggle.json to kaggle.json\n"
          ],
          "name": "stdout"
        },
        {
          "output_type": "execute_result",
          "data": {
            "text/plain": [
              "{'kaggle.json': b'{\"username\":\"atharvamusale01\",\"key\":\"f754ec3324cc03e5dba0d99cfb916202\"}'}"
            ]
          },
          "metadata": {
            "tags": []
          },
          "execution_count": 2
        }
      ]
    },
    {
      "cell_type": "code",
      "metadata": {
        "id": "kqFJrlKK7Pfs"
      },
      "source": [
        "! mkdir ~/.kaggle"
      ],
      "execution_count": null,
      "outputs": []
    },
    {
      "cell_type": "code",
      "metadata": {
        "id": "YZMR55iY7Q-s"
      },
      "source": [
        "! cp kaggle.json ~/.kaggle/"
      ],
      "execution_count": null,
      "outputs": []
    },
    {
      "cell_type": "code",
      "metadata": {
        "id": "N-XqgQNB7So0"
      },
      "source": [
        "! chmod 600 ~/.kaggle/kaggle.json"
      ],
      "execution_count": null,
      "outputs": []
    },
    {
      "cell_type": "code",
      "metadata": {
        "colab": {
          "base_uri": "https://localhost:8080/"
        },
        "id": "pTViaTb07UAT",
        "outputId": "fdf6cba0-d26d-4268-f603-4be471b0b303"
      },
      "source": [
        "! kaggle competitions download -c jigsaw-toxic-comment-classification-challenge"
      ],
      "execution_count": null,
      "outputs": [
        {
          "output_type": "stream",
          "text": [
            "Warning: Looks like you're using an outdated API Version, please consider updating (server 1.5.10 / client 1.5.4)\n",
            "Downloading test_labels.csv.zip to /content\n",
            "  0% 0.00/1.46M [00:00<?, ?B/s]\n",
            "100% 1.46M/1.46M [00:00<00:00, 48.1MB/s]\n",
            "Downloading train.csv.zip to /content\n",
            " 68% 18.0M/26.3M [00:00<00:00, 72.4MB/s]\n",
            "100% 26.3M/26.3M [00:00<00:00, 87.7MB/s]\n",
            "Downloading sample_submission.csv.zip to /content\n",
            "  0% 0.00/1.39M [00:00<?, ?B/s]\n",
            "100% 1.39M/1.39M [00:00<00:00, 95.7MB/s]\n",
            "Downloading test.csv.zip to /content\n",
            " 55% 13.0M/23.4M [00:00<00:00, 16.9MB/s]\n",
            "100% 23.4M/23.4M [00:01<00:00, 24.2MB/s]\n"
          ],
          "name": "stdout"
        }
      ]
    },
    {
      "cell_type": "code",
      "metadata": {
        "colab": {
          "base_uri": "https://localhost:8080/"
        },
        "id": "FUug33sD-Tt9",
        "outputId": "0f70eebc-af3c-4321-d6fa-05923afacdd1"
      },
      "source": [
        "!unzip /content/train.csv.zip\n",
        "!unzip /content/test.csv.zip\n",
        "!unzip /content/sample_submission.csv"
      ],
      "execution_count": null,
      "outputs": [
        {
          "output_type": "stream",
          "text": [
            "Archive:  /content/train.csv.zip\n",
            "  inflating: train.csv               \n",
            "Archive:  /content/test.csv.zip\n",
            "  inflating: test.csv                \n",
            "Archive:  /content/sample_submission.csv.zip\n",
            "  inflating: sample_submission.csv   \n"
          ],
          "name": "stdout"
        }
      ]
    },
    {
      "cell_type": "code",
      "metadata": {
        "id": "kbMI0Ht-_O-K"
      },
      "source": [
        "import numpy as np\n",
        "import pandas as pd\n",
        "import seaborn as sns\n",
        "import matplotlib.pyplot as plt\n",
        "import re\n",
        "\n",
        "import warnings\n",
        "warnings.filterwarnings('ignore')\n",
        "from sklearn.feature_extraction.text import CountVectorizer, TfidfVectorizer\n",
        "from sklearn.model_selection import RandomizedSearchCV,train_test_split\n",
        "from sklearn.linear_model import LogisticRegression\n",
        "from sklearn.naive_bayes import MultinomialNB\n",
        "from sklearn.tree import DecisionTreeClassifier\n",
        "from sklearn.metrics import f1_score,roc_auc_score,confusion_matrix,accuracy_score\n",
        "from sklearn.neighbors import KNeighborsClassifier\n",
        "\n",
        "import tensorflow as tf\n",
        "from math import ceil\n",
        "from nltk.corpus import stopwords\n",
        "import matplotlib.pyplot as plt\n",
        "from prettytable import PrettyTable\n",
        "from keras.utils import to_categorical\n",
        "from sklearn.preprocessing import MultiLabelBinarizer, LabelEncoder\n",
        "from sklearn.model_selection import train_test_split\n",
        "from tensorflow.keras.preprocessing.text import Tokenizer\n",
        "from tensorflow.keras.preprocessing.sequence import pad_sequences\n",
        "from tensorflow.keras.layers import Embedding, Input, Dense, Flatten, LSTM,Dropout, concatenate,\\\n",
        "Conv1D,BatchNormalization,SpatialDropout1D,Bidirectional,GRU,GlobalAveragePooling1D,GlobalMaxPooling1D\n",
        "from tensorflow.keras import regularizers,initializers,optimizers,Model\n",
        "from tensorflow.keras.callbacks import Callback, ModelCheckpoint,EarlyStopping\n",
        "\n"
      ],
      "execution_count": null,
      "outputs": []
    },
    {
      "cell_type": "markdown",
      "metadata": {
        "id": "D6AIU6wdUurX"
      },
      "source": [
        "# **EDA**"
      ]
    },
    {
      "cell_type": "code",
      "metadata": {
        "id": "EwjGTxCU_YSt"
      },
      "source": [
        "data = pd.read_csv('/content/train.csv')\n",
        "data_test = pd.read_csv('test.csv')\n",
        "submission = pd.read_csv('sample_submission.csv')"
      ],
      "execution_count": null,
      "outputs": []
    },
    {
      "cell_type": "code",
      "metadata": {
        "colab": {
          "base_uri": "https://localhost:8080/"
        },
        "id": "HJngE4a-3Xb1",
        "outputId": "5ee3f744-46ee-471c-ad58-bff0f5a87748"
      },
      "source": [
        "print(data.shape)\n",
        "print(data_test.shape)\n",
        "print(submission.shape)"
      ],
      "execution_count": null,
      "outputs": [
        {
          "output_type": "stream",
          "text": [
            "(159571, 8)\n",
            "(153164, 2)\n",
            "(153164, 7)\n"
          ],
          "name": "stdout"
        }
      ]
    },
    {
      "cell_type": "code",
      "metadata": {
        "colab": {
          "base_uri": "https://localhost:8080/",
          "height": 204
        },
        "id": "Pq3OMcDX_m9U",
        "outputId": "09e4b661-0580-4d19-e934-c507d4af67c1"
      },
      "source": [
        "\"\"\"Lets get the idea of the training data we have...\"\"\"\n",
        "data.head()"
      ],
      "execution_count": null,
      "outputs": [
        {
          "output_type": "execute_result",
          "data": {
            "text/html": [
              "<div>\n",
              "<style scoped>\n",
              "    .dataframe tbody tr th:only-of-type {\n",
              "        vertical-align: middle;\n",
              "    }\n",
              "\n",
              "    .dataframe tbody tr th {\n",
              "        vertical-align: top;\n",
              "    }\n",
              "\n",
              "    .dataframe thead th {\n",
              "        text-align: right;\n",
              "    }\n",
              "</style>\n",
              "<table border=\"1\" class=\"dataframe\">\n",
              "  <thead>\n",
              "    <tr style=\"text-align: right;\">\n",
              "      <th></th>\n",
              "      <th>id</th>\n",
              "      <th>comment_text</th>\n",
              "      <th>toxic</th>\n",
              "      <th>severe_toxic</th>\n",
              "      <th>obscene</th>\n",
              "      <th>threat</th>\n",
              "      <th>insult</th>\n",
              "      <th>identity_hate</th>\n",
              "    </tr>\n",
              "  </thead>\n",
              "  <tbody>\n",
              "    <tr>\n",
              "      <th>0</th>\n",
              "      <td>0000997932d777bf</td>\n",
              "      <td>Explanation\\nWhy the edits made under my usern...</td>\n",
              "      <td>0</td>\n",
              "      <td>0</td>\n",
              "      <td>0</td>\n",
              "      <td>0</td>\n",
              "      <td>0</td>\n",
              "      <td>0</td>\n",
              "    </tr>\n",
              "    <tr>\n",
              "      <th>1</th>\n",
              "      <td>000103f0d9cfb60f</td>\n",
              "      <td>D'aww! He matches this background colour I'm s...</td>\n",
              "      <td>0</td>\n",
              "      <td>0</td>\n",
              "      <td>0</td>\n",
              "      <td>0</td>\n",
              "      <td>0</td>\n",
              "      <td>0</td>\n",
              "    </tr>\n",
              "    <tr>\n",
              "      <th>2</th>\n",
              "      <td>000113f07ec002fd</td>\n",
              "      <td>Hey man, I'm really not trying to edit war. It...</td>\n",
              "      <td>0</td>\n",
              "      <td>0</td>\n",
              "      <td>0</td>\n",
              "      <td>0</td>\n",
              "      <td>0</td>\n",
              "      <td>0</td>\n",
              "    </tr>\n",
              "    <tr>\n",
              "      <th>3</th>\n",
              "      <td>0001b41b1c6bb37e</td>\n",
              "      <td>\"\\nMore\\nI can't make any real suggestions on ...</td>\n",
              "      <td>0</td>\n",
              "      <td>0</td>\n",
              "      <td>0</td>\n",
              "      <td>0</td>\n",
              "      <td>0</td>\n",
              "      <td>0</td>\n",
              "    </tr>\n",
              "    <tr>\n",
              "      <th>4</th>\n",
              "      <td>0001d958c54c6e35</td>\n",
              "      <td>You, sir, are my hero. Any chance you remember...</td>\n",
              "      <td>0</td>\n",
              "      <td>0</td>\n",
              "      <td>0</td>\n",
              "      <td>0</td>\n",
              "      <td>0</td>\n",
              "      <td>0</td>\n",
              "    </tr>\n",
              "  </tbody>\n",
              "</table>\n",
              "</div>"
            ],
            "text/plain": [
              "                 id  ... identity_hate\n",
              "0  0000997932d777bf  ...             0\n",
              "1  000103f0d9cfb60f  ...             0\n",
              "2  000113f07ec002fd  ...             0\n",
              "3  0001b41b1c6bb37e  ...             0\n",
              "4  0001d958c54c6e35  ...             0\n",
              "\n",
              "[5 rows x 8 columns]"
            ]
          },
          "metadata": {
            "tags": []
          },
          "execution_count": 11
        }
      ]
    },
    {
      "cell_type": "code",
      "metadata": {
        "colab": {
          "base_uri": "https://localhost:8080/",
          "height": 297
        },
        "id": "xtpwayKQ_n67",
        "outputId": "720eabf0-2e76-4801-802c-a1d6ff7aa7c4"
      },
      "source": [
        "data.describe()"
      ],
      "execution_count": null,
      "outputs": [
        {
          "output_type": "execute_result",
          "data": {
            "text/html": [
              "<div>\n",
              "<style scoped>\n",
              "    .dataframe tbody tr th:only-of-type {\n",
              "        vertical-align: middle;\n",
              "    }\n",
              "\n",
              "    .dataframe tbody tr th {\n",
              "        vertical-align: top;\n",
              "    }\n",
              "\n",
              "    .dataframe thead th {\n",
              "        text-align: right;\n",
              "    }\n",
              "</style>\n",
              "<table border=\"1\" class=\"dataframe\">\n",
              "  <thead>\n",
              "    <tr style=\"text-align: right;\">\n",
              "      <th></th>\n",
              "      <th>toxic</th>\n",
              "      <th>severe_toxic</th>\n",
              "      <th>obscene</th>\n",
              "      <th>threat</th>\n",
              "      <th>insult</th>\n",
              "      <th>identity_hate</th>\n",
              "    </tr>\n",
              "  </thead>\n",
              "  <tbody>\n",
              "    <tr>\n",
              "      <th>count</th>\n",
              "      <td>159571.000000</td>\n",
              "      <td>159571.000000</td>\n",
              "      <td>159571.000000</td>\n",
              "      <td>159571.000000</td>\n",
              "      <td>159571.000000</td>\n",
              "      <td>159571.000000</td>\n",
              "    </tr>\n",
              "    <tr>\n",
              "      <th>mean</th>\n",
              "      <td>0.095844</td>\n",
              "      <td>0.009996</td>\n",
              "      <td>0.052948</td>\n",
              "      <td>0.002996</td>\n",
              "      <td>0.049364</td>\n",
              "      <td>0.008805</td>\n",
              "    </tr>\n",
              "    <tr>\n",
              "      <th>std</th>\n",
              "      <td>0.294379</td>\n",
              "      <td>0.099477</td>\n",
              "      <td>0.223931</td>\n",
              "      <td>0.054650</td>\n",
              "      <td>0.216627</td>\n",
              "      <td>0.093420</td>\n",
              "    </tr>\n",
              "    <tr>\n",
              "      <th>min</th>\n",
              "      <td>0.000000</td>\n",
              "      <td>0.000000</td>\n",
              "      <td>0.000000</td>\n",
              "      <td>0.000000</td>\n",
              "      <td>0.000000</td>\n",
              "      <td>0.000000</td>\n",
              "    </tr>\n",
              "    <tr>\n",
              "      <th>25%</th>\n",
              "      <td>0.000000</td>\n",
              "      <td>0.000000</td>\n",
              "      <td>0.000000</td>\n",
              "      <td>0.000000</td>\n",
              "      <td>0.000000</td>\n",
              "      <td>0.000000</td>\n",
              "    </tr>\n",
              "    <tr>\n",
              "      <th>50%</th>\n",
              "      <td>0.000000</td>\n",
              "      <td>0.000000</td>\n",
              "      <td>0.000000</td>\n",
              "      <td>0.000000</td>\n",
              "      <td>0.000000</td>\n",
              "      <td>0.000000</td>\n",
              "    </tr>\n",
              "    <tr>\n",
              "      <th>75%</th>\n",
              "      <td>0.000000</td>\n",
              "      <td>0.000000</td>\n",
              "      <td>0.000000</td>\n",
              "      <td>0.000000</td>\n",
              "      <td>0.000000</td>\n",
              "      <td>0.000000</td>\n",
              "    </tr>\n",
              "    <tr>\n",
              "      <th>max</th>\n",
              "      <td>1.000000</td>\n",
              "      <td>1.000000</td>\n",
              "      <td>1.000000</td>\n",
              "      <td>1.000000</td>\n",
              "      <td>1.000000</td>\n",
              "      <td>1.000000</td>\n",
              "    </tr>\n",
              "  </tbody>\n",
              "</table>\n",
              "</div>"
            ],
            "text/plain": [
              "               toxic   severe_toxic  ...         insult  identity_hate\n",
              "count  159571.000000  159571.000000  ...  159571.000000  159571.000000\n",
              "mean        0.095844       0.009996  ...       0.049364       0.008805\n",
              "std         0.294379       0.099477  ...       0.216627       0.093420\n",
              "min         0.000000       0.000000  ...       0.000000       0.000000\n",
              "25%         0.000000       0.000000  ...       0.000000       0.000000\n",
              "50%         0.000000       0.000000  ...       0.000000       0.000000\n",
              "75%         0.000000       0.000000  ...       0.000000       0.000000\n",
              "max         1.000000       1.000000  ...       1.000000       1.000000\n",
              "\n",
              "[8 rows x 6 columns]"
            ]
          },
          "metadata": {
            "tags": []
          },
          "execution_count": 12
        }
      ]
    },
    {
      "cell_type": "code",
      "metadata": {
        "colab": {
          "base_uri": "https://localhost:8080/"
        },
        "id": "UHW7Zna5eLpQ",
        "outputId": "21be9e22-5454-49b6-9b00-f3ab31f259e0"
      },
      "source": [
        "data.info()"
      ],
      "execution_count": null,
      "outputs": [
        {
          "output_type": "stream",
          "text": [
            "<class 'pandas.core.frame.DataFrame'>\n",
            "RangeIndex: 159571 entries, 0 to 159570\n",
            "Data columns (total 8 columns):\n",
            " #   Column         Non-Null Count   Dtype \n",
            "---  ------         --------------   ----- \n",
            " 0   id             159571 non-null  object\n",
            " 1   comment_text   159571 non-null  object\n",
            " 2   toxic          159571 non-null  int64 \n",
            " 3   severe_toxic   159571 non-null  int64 \n",
            " 4   obscene        159571 non-null  int64 \n",
            " 5   threat         159571 non-null  int64 \n",
            " 6   insult         159571 non-null  int64 \n",
            " 7   identity_hate  159571 non-null  int64 \n",
            "dtypes: int64(6), object(2)\n",
            "memory usage: 9.7+ MB\n"
          ],
          "name": "stdout"
        }
      ]
    },
    {
      "cell_type": "code",
      "metadata": {
        "colab": {
          "base_uri": "https://localhost:8080/"
        },
        "id": "E0ZwwoyZfB19",
        "outputId": "b4399629-28e6-4622-ea0e-bd5592aae018"
      },
      "source": [
        "\"\"\"Lets take a general information about test data...\"\"\"\n",
        "data_test.info()"
      ],
      "execution_count": null,
      "outputs": [
        {
          "output_type": "stream",
          "text": [
            "<class 'pandas.core.frame.DataFrame'>\n",
            "RangeIndex: 153164 entries, 0 to 153163\n",
            "Data columns (total 2 columns):\n",
            " #   Column        Non-Null Count   Dtype \n",
            "---  ------        --------------   ----- \n",
            " 0   id            153164 non-null  object\n",
            " 1   comment_text  153164 non-null  object\n",
            "dtypes: object(2)\n",
            "memory usage: 2.3+ MB\n"
          ],
          "name": "stdout"
        }
      ]
    },
    {
      "cell_type": "code",
      "metadata": {
        "id": "R2EKyUST_tgj"
      },
      "source": [
        "\"\"\"\n",
        "From the above description we can see that the mean value of \\\n",
        "each class is way too low, its below 0.1 that means there must be very few\\\n",
        "comments which are toxic in nature. So I am making a dataframe of the toxic \\\n",
        "comments only and lets see how many of the whole comments are actually toxic.\n",
        "\"\"\"\n",
        "labelled_in_all = data[(data['toxic']==1) | (data['severe_toxic']==1) | (data['obscene']==1) |\n",
        "                            (data['threat']==1) | (data['insult']==1) | (data['identity_hate']==1)]"
      ],
      "execution_count": null,
      "outputs": []
    },
    {
      "cell_type": "code",
      "metadata": {
        "colab": {
          "base_uri": "https://localhost:8080/",
          "height": 470
        },
        "id": "o9R6tZ-_A4E-",
        "outputId": "14e71e6b-e3c1-4486-c4d9-4dbcffd301ec"
      },
      "source": [
        "labelled_in_all"
      ],
      "execution_count": null,
      "outputs": [
        {
          "output_type": "execute_result",
          "data": {
            "text/html": [
              "<div>\n",
              "<style scoped>\n",
              "    .dataframe tbody tr th:only-of-type {\n",
              "        vertical-align: middle;\n",
              "    }\n",
              "\n",
              "    .dataframe tbody tr th {\n",
              "        vertical-align: top;\n",
              "    }\n",
              "\n",
              "    .dataframe thead th {\n",
              "        text-align: right;\n",
              "    }\n",
              "</style>\n",
              "<table border=\"1\" class=\"dataframe\">\n",
              "  <thead>\n",
              "    <tr style=\"text-align: right;\">\n",
              "      <th></th>\n",
              "      <th>id</th>\n",
              "      <th>comment_text</th>\n",
              "      <th>toxic</th>\n",
              "      <th>severe_toxic</th>\n",
              "      <th>obscene</th>\n",
              "      <th>threat</th>\n",
              "      <th>insult</th>\n",
              "      <th>identity_hate</th>\n",
              "    </tr>\n",
              "  </thead>\n",
              "  <tbody>\n",
              "    <tr>\n",
              "      <th>6</th>\n",
              "      <td>0002bcb3da6cb337</td>\n",
              "      <td>COCKSUCKER BEFORE YOU PISS AROUND ON MY WORK</td>\n",
              "      <td>1</td>\n",
              "      <td>1</td>\n",
              "      <td>1</td>\n",
              "      <td>0</td>\n",
              "      <td>1</td>\n",
              "      <td>0</td>\n",
              "    </tr>\n",
              "    <tr>\n",
              "      <th>12</th>\n",
              "      <td>0005c987bdfc9d4b</td>\n",
              "      <td>Hey... what is it..\\n@ | talk .\\nWhat is it......</td>\n",
              "      <td>1</td>\n",
              "      <td>0</td>\n",
              "      <td>0</td>\n",
              "      <td>0</td>\n",
              "      <td>0</td>\n",
              "      <td>0</td>\n",
              "    </tr>\n",
              "    <tr>\n",
              "      <th>16</th>\n",
              "      <td>0007e25b2121310b</td>\n",
              "      <td>Bye! \\n\\nDon't look, come or think of comming ...</td>\n",
              "      <td>1</td>\n",
              "      <td>0</td>\n",
              "      <td>0</td>\n",
              "      <td>0</td>\n",
              "      <td>0</td>\n",
              "      <td>0</td>\n",
              "    </tr>\n",
              "    <tr>\n",
              "      <th>42</th>\n",
              "      <td>001810bf8c45bf5f</td>\n",
              "      <td>You are gay or antisemmitian? \\n\\nArchangel WH...</td>\n",
              "      <td>1</td>\n",
              "      <td>0</td>\n",
              "      <td>1</td>\n",
              "      <td>0</td>\n",
              "      <td>1</td>\n",
              "      <td>1</td>\n",
              "    </tr>\n",
              "    <tr>\n",
              "      <th>43</th>\n",
              "      <td>00190820581d90ce</td>\n",
              "      <td>FUCK YOUR FILTHY MOTHER IN THE ASS, DRY!</td>\n",
              "      <td>1</td>\n",
              "      <td>0</td>\n",
              "      <td>1</td>\n",
              "      <td>0</td>\n",
              "      <td>1</td>\n",
              "      <td>0</td>\n",
              "    </tr>\n",
              "    <tr>\n",
              "      <th>...</th>\n",
              "      <td>...</td>\n",
              "      <td>...</td>\n",
              "      <td>...</td>\n",
              "      <td>...</td>\n",
              "      <td>...</td>\n",
              "      <td>...</td>\n",
              "      <td>...</td>\n",
              "      <td>...</td>\n",
              "    </tr>\n",
              "    <tr>\n",
              "      <th>159494</th>\n",
              "      <td>fef4cf7ba0012866</td>\n",
              "      <td>\"\\n\\n our previous conversation \\n\\nyou fuckin...</td>\n",
              "      <td>1</td>\n",
              "      <td>0</td>\n",
              "      <td>1</td>\n",
              "      <td>0</td>\n",
              "      <td>1</td>\n",
              "      <td>1</td>\n",
              "    </tr>\n",
              "    <tr>\n",
              "      <th>159514</th>\n",
              "      <td>ff39a2895fc3b40e</td>\n",
              "      <td>YOU ARE A MISCHIEVIOUS PUBIC HAIR</td>\n",
              "      <td>1</td>\n",
              "      <td>0</td>\n",
              "      <td>0</td>\n",
              "      <td>0</td>\n",
              "      <td>1</td>\n",
              "      <td>0</td>\n",
              "    </tr>\n",
              "    <tr>\n",
              "      <th>159541</th>\n",
              "      <td>ffa33d3122b599d6</td>\n",
              "      <td>Your absurd edits \\n\\nYour absurd edits on gre...</td>\n",
              "      <td>1</td>\n",
              "      <td>0</td>\n",
              "      <td>1</td>\n",
              "      <td>0</td>\n",
              "      <td>1</td>\n",
              "      <td>0</td>\n",
              "    </tr>\n",
              "    <tr>\n",
              "      <th>159546</th>\n",
              "      <td>ffb47123b2d82762</td>\n",
              "      <td>\"\\n\\nHey listen don't you ever!!!! Delete my e...</td>\n",
              "      <td>1</td>\n",
              "      <td>0</td>\n",
              "      <td>0</td>\n",
              "      <td>0</td>\n",
              "      <td>1</td>\n",
              "      <td>0</td>\n",
              "    </tr>\n",
              "    <tr>\n",
              "      <th>159554</th>\n",
              "      <td>ffbdbb0483ed0841</td>\n",
              "      <td>and i'm going to keep posting the stuff u dele...</td>\n",
              "      <td>1</td>\n",
              "      <td>0</td>\n",
              "      <td>1</td>\n",
              "      <td>0</td>\n",
              "      <td>1</td>\n",
              "      <td>0</td>\n",
              "    </tr>\n",
              "  </tbody>\n",
              "</table>\n",
              "<p>16225 rows × 8 columns</p>\n",
              "</div>"
            ],
            "text/plain": [
              "                      id  ... identity_hate\n",
              "6       0002bcb3da6cb337  ...             0\n",
              "12      0005c987bdfc9d4b  ...             0\n",
              "16      0007e25b2121310b  ...             0\n",
              "42      001810bf8c45bf5f  ...             1\n",
              "43      00190820581d90ce  ...             0\n",
              "...                  ...  ...           ...\n",
              "159494  fef4cf7ba0012866  ...             1\n",
              "159514  ff39a2895fc3b40e  ...             0\n",
              "159541  ffa33d3122b599d6  ...             0\n",
              "159546  ffb47123b2d82762  ...             0\n",
              "159554  ffbdbb0483ed0841  ...             0\n",
              "\n",
              "[16225 rows x 8 columns]"
            ]
          },
          "metadata": {
            "tags": []
          },
          "execution_count": 16
        }
      ]
    },
    {
      "cell_type": "code",
      "metadata": {
        "colab": {
          "base_uri": "https://localhost:8080/"
        },
        "id": "1fQIPkJFA8A1",
        "outputId": "c48d886f-9ce8-4c2f-fe91-98f390fdab79"
      },
      "source": [
        "print('Total Percentage of toxic comments in whole data is: {}'.format(len(labelled_in_all)/len(data)*100))"
      ],
      "execution_count": null,
      "outputs": [
        {
          "output_type": "stream",
          "text": [
            "Total Percentage of toxic comments in whole data is: 10.167887648758233\n"
          ],
          "name": "stdout"
        }
      ]
    },
    {
      "cell_type": "code",
      "metadata": {
        "id": "Rl5d2on7BCJE",
        "colab": {
          "base_uri": "https://localhost:8080/"
        },
        "outputId": "47486ddc-1b63-4152-a701-f286fdcabb78"
      },
      "source": [
        "data.isnull().any()"
      ],
      "execution_count": null,
      "outputs": [
        {
          "output_type": "execute_result",
          "data": {
            "text/plain": [
              "id               False\n",
              "comment_text     False\n",
              "toxic            False\n",
              "severe_toxic     False\n",
              "obscene          False\n",
              "threat           False\n",
              "insult           False\n",
              "identity_hate    False\n",
              "dtype: bool"
            ]
          },
          "metadata": {
            "tags": []
          },
          "execution_count": 18
        }
      ]
    },
    {
      "cell_type": "markdown",
      "metadata": {
        "id": "i3eCIJRkNSB9"
      },
      "source": [
        "**We can see that there is no missing data. That's great!!!. So now lets check the distribution of the lengths of the comments.**"
      ]
    },
    {
      "cell_type": "code",
      "metadata": {
        "id": "R8YRAFQ7NQ9Y"
      },
      "source": [
        "data['char_length'] = data['comment_text'].apply(lambda x: len(str(x)))"
      ],
      "execution_count": null,
      "outputs": []
    },
    {
      "cell_type": "code",
      "metadata": {
        "colab": {
          "base_uri": "https://localhost:8080/",
          "height": 268
        },
        "id": "NdkvRxqQNnox",
        "outputId": "bc950dd6-0403-43cb-cc37-de6be197bdfd"
      },
      "source": [
        "sns.set()\n",
        "data['char_length'].hist()\n",
        "plt.show()"
      ],
      "execution_count": null,
      "outputs": [
        {
          "output_type": "display_data",
          "data": {
            "image/png": "[encoded data removed]",
            "text/plain": [
              "<Figure size 432x288 with 1 Axes>"
            ]
          },
          "metadata": {
            "tags": []
          }
        }
      ]
    },
    {
      "cell_type": "markdown",
      "metadata": {
        "id": "5q04V2i3NtQY"
      },
      "source": [
        "**We can see that most of the comments are below 2500 characters. Now next part is when we look at the counts of the output classes**"
      ]
    },
    {
      "cell_type": "code",
      "metadata": {
        "id": "Gc-rtzWTYZxW"
      },
      "source": [
        "comment_text_count=0\n",
        "toxic_count=0\n",
        "severe_toxic_count=0\n",
        "obscene_count=0\n",
        "threat_count=0\n",
        "insult_count=0\n",
        "identity_hate_count=0"
      ],
      "execution_count": null,
      "outputs": []
    },
    {
      "cell_type": "code",
      "metadata": {
        "id": "fcBI34DxZQcU"
      },
      "source": [
        "labelled_in_all = labelled_in_all.reset_index(drop=True)"
      ],
      "execution_count": null,
      "outputs": []
    },
    {
      "cell_type": "code",
      "metadata": {
        "id": "bSjuz2JSX9DI"
      },
      "source": [
        "for i in range(len(data)):\n",
        "  if data['toxic'][i]==1:\n",
        "    toxic_count+=1\n",
        "  if data['severe_toxic'][i]==1:\n",
        "    severe_toxic_count+=1\n",
        "  if data['obscene'][i]==1:\n",
        "    obscene_count+=1\n",
        "  if data['threat'][i]==1:\n",
        "    threat_count+=1\n",
        "  if data['insult'][i]==1:\n",
        "    insult_count+=1\n",
        "  if data['identity_hate'][i]==1:\n",
        "    identity_hate_count+=1  "
      ],
      "execution_count": null,
      "outputs": []
    },
    {
      "cell_type": "code",
      "metadata": {
        "id": "JmkXveqoZb5X"
      },
      "source": [
        "counts = [toxic_count,severe_toxic_count,obscene_count,threat_count,insult_count,identity_hate_count]\n",
        "target = ['toxic','severe_toxic','obscene','threat','insult','identity_hate']\n",
        "counts_df = pd.DataFrame(data=target,columns=['type'])\n",
        "counts_df['counts']=counts"
      ],
      "execution_count": null,
      "outputs": []
    },
    {
      "cell_type": "code",
      "metadata": {
        "id": "K_KkdAqadViF",
        "colab": {
          "base_uri": "https://localhost:8080/",
          "height": 235
        },
        "outputId": "972b205f-74fd-4062-be00-0a6818ef1cb3"
      },
      "source": [
        "counts_df"
      ],
      "execution_count": null,
      "outputs": [
        {
          "output_type": "execute_result",
          "data": {
            "text/html": [
              "<div>\n",
              "<style scoped>\n",
              "    .dataframe tbody tr th:only-of-type {\n",
              "        vertical-align: middle;\n",
              "    }\n",
              "\n",
              "    .dataframe tbody tr th {\n",
              "        vertical-align: top;\n",
              "    }\n",
              "\n",
              "    .dataframe thead th {\n",
              "        text-align: right;\n",
              "    }\n",
              "</style>\n",
              "<table border=\"1\" class=\"dataframe\">\n",
              "  <thead>\n",
              "    <tr style=\"text-align: right;\">\n",
              "      <th></th>\n",
              "      <th>type</th>\n",
              "      <th>counts</th>\n",
              "    </tr>\n",
              "  </thead>\n",
              "  <tbody>\n",
              "    <tr>\n",
              "      <th>0</th>\n",
              "      <td>toxic</td>\n",
              "      <td>15294</td>\n",
              "    </tr>\n",
              "    <tr>\n",
              "      <th>1</th>\n",
              "      <td>severe_toxic</td>\n",
              "      <td>1595</td>\n",
              "    </tr>\n",
              "    <tr>\n",
              "      <th>2</th>\n",
              "      <td>obscene</td>\n",
              "      <td>8449</td>\n",
              "    </tr>\n",
              "    <tr>\n",
              "      <th>3</th>\n",
              "      <td>threat</td>\n",
              "      <td>478</td>\n",
              "    </tr>\n",
              "    <tr>\n",
              "      <th>4</th>\n",
              "      <td>insult</td>\n",
              "      <td>7877</td>\n",
              "    </tr>\n",
              "    <tr>\n",
              "      <th>5</th>\n",
              "      <td>identity_hate</td>\n",
              "      <td>1405</td>\n",
              "    </tr>\n",
              "  </tbody>\n",
              "</table>\n",
              "</div>"
            ],
            "text/plain": [
              "            type  counts\n",
              "0          toxic   15294\n",
              "1   severe_toxic    1595\n",
              "2        obscene    8449\n",
              "3         threat     478\n",
              "4         insult    7877\n",
              "5  identity_hate    1405"
            ]
          },
          "metadata": {
            "tags": []
          },
          "execution_count": 25
        }
      ]
    },
    {
      "cell_type": "markdown",
      "metadata": {
        "id": "dPXmd3WZbo0-"
      },
      "source": [
        "We can see that most of the comments belong to toxic followed by obscene, insult, severe_toxic, identity_hate, threat"
      ]
    },
    {
      "cell_type": "code",
      "metadata": {
        "id": "CcHpY4YYaceG"
      },
      "source": [
        "corr_data = data[target]"
      ],
      "execution_count": null,
      "outputs": []
    },
    {
      "cell_type": "code",
      "metadata": {
        "id": "MgZNDqZEe4Wa",
        "colab": {
          "base_uri": "https://localhost:8080/",
          "height": 481
        },
        "outputId": "70bdab6d-a9c3-45fd-d23b-95112324cf1c"
      },
      "source": [
        "colormap = plt.cm.plasma\n",
        "plt.figure(figsize=(7,7))\n",
        "plt.title('Correlation of features & targets',y=1.05,size=14)\n",
        "sns.heatmap(corr_data.astype(float).corr(),linewidths=0.1,vmax=1.0,square=True,cmap=colormap,\n",
        "           linecolor='white',annot=True)"
      ],
      "execution_count": null,
      "outputs": [
        {
          "output_type": "execute_result",
          "data": {
            "text/plain": [
              "<matplotlib.axes._subplots.AxesSubplot at 0x7f1c10750b70>"
            ]
          },
          "metadata": {
            "tags": []
          },
          "execution_count": 27
        },
        {
          "output_type": "display_data",
          "data": {
            "image/png": "[encoded data removed]",
            "text/plain": [
              "<Figure size 504x504 with 2 Axes>"
            ]
          },
          "metadata": {
            "tags": []
          }
        }
      ]
    },
    {
      "cell_type": "markdown",
      "metadata": {
        "id": "RinJqEWQfoZ8"
      },
      "source": [
        "# **Data Preprocessing**"
      ]
    },
    {
      "cell_type": "code",
      "metadata": {
        "id": "zIwW1Jl6e5oR"
      },
      "source": [
        "def clean_text(text):\n",
        "    text = text.lower()\n",
        "    text = re.sub(r\"what's\", \"what is \", text)\n",
        "    text = re.sub(r\"\\'s\", \" \", text)\n",
        "    text = re.sub(r\"\\'ve\", \" have \", text)\n",
        "    text = re.sub(r\"can't\", \"cannot \", text)\n",
        "    text = re.sub(r\"n't\", \" not \", text)\n",
        "    text = re.sub(r\"i'm\", \"i am \", text)\n",
        "    text = re.sub(r\"\\'re\", \" are \", text)\n",
        "    text = re.sub(r\"\\'d\", \" would \", text)\n",
        "    text = re.sub(r\"\\'ll\", \" will \", text)\n",
        "    text = re.sub(r\"\\'scuse\", \" excuse \", text)\n",
        "    text = re.sub('\\W', ' ', text)\n",
        "    text = re.sub('\\s+', ' ', text)\n",
        "    text = re.sub('[0-9]', '', text)\n",
        "    text = text.strip(' ')\n",
        "    return text"
      ],
      "execution_count": null,
      "outputs": []
    },
    {
      "cell_type": "code",
      "metadata": {
        "id": "XXMPXJCifqoL"
      },
      "source": [
        "# clean the comment_text in train_df \n",
        "data['comment_text'] = data['comment_text'].map(lambda com : clean_text(com))"
      ],
      "execution_count": null,
      "outputs": []
    },
    {
      "cell_type": "code",
      "metadata": {
        "colab": {
          "base_uri": "https://localhost:8080/"
        },
        "id": "abnpqrDB2YRZ",
        "outputId": "e7789495-f905-4fa2-fb6c-a8c1fbb7c1e8"
      },
      "source": [
        "# lets take a look at few points\n",
        "for i in range(10):\n",
        "  n = np.random.randint(low=0,high=20000)\n",
        "  print(data['comment_text'][n])\n",
        "  print('#'*200)"
      ],
      "execution_count": null,
      "outputs": [
        {
          "output_type": "stream",
          "text": [
            "please do not vandalize pages as you did with this edit to list of rulers named henry if you continue to do so you will be blocked from editing\n",
            "########################################################################################################################################################################################################\n",
            "hi hi there i just wanted to know how you know that new page requires categorization talk\n",
            "########################################################################################################################################################################################################\n",
            "please do not disrupt wikipedia to make a point or a joke your accusations of racism against griswaldo and maunus are offensive nonsense they are good editors of wikipedia who deserve respect if you insult them or others further you will be blocked or banned sharktopustalk\n",
            "########################################################################################################################################################################################################\n",
            "i know two teenagers that suffer from gerd it is a big problem for these people\n",
            "########################################################################################################################################################################################################\n",
            "please do not vandalize pages as you did with this edit to skateboard if you continue to do so you will be blocked from editing\n",
            "########################################################################################################################################################################################################\n",
            "cutting too much i am a little concerned that we are cutting too much we are getting bogged down in detail but i think it important that we document fully the claims of this group in other articles i have said that we are under no obligation to examine every charge and counter charge and this is true however this is an article about a group whose entire existence is dedicated to making charges and even if they are easily dismissed on factual grounds i think it important that we note that    aug  utc\n",
            "########################################################################################################################################################################################################\n",
            "neutrality beer section this is largely sourced from the brewery itself and the descriptions read that way talk\n",
            "########################################################################################################################################################################################################\n",
            "unblock requests unblock reviewed  sorry for my blurb here i went in detail elsewhere if an admins reviews the complete history of astrotheology they will notice that i have been patient while i had to deal with other editors extreme language at me that creates a very stressful situation please see here for outside opinion i did not use the same kind of language against hrafn and he had no right to immediately jump on my case while i added content to the article i was the only active contributor to that astrotheology that was adding content to it even before the afd process i noticed it was a stub and started to add content how am i being disruptive to other there when there was no other editors that wanted to contribute i even listed  potential sources on the talk page that had mentions of astrotheology others could have reviewed them and find if they had anything worthwhile if they actually wanted to be an editor of astrotheology and add content hrafn on the talk page even labeled me as an atheist and other categorized pov pusher it is obvious he was against something but that something was not me like he thought and he could not believe otherwise or choose not to somehow this went from something that was just a little beyond a content dispute because of the harassment i got from hrafn to where durova stepped in and it went directly to arbcom she did ask about pastordavid but i looked and i left evidence on an i of why i did not accept his offer that is not a refusal to dispute resolution that is seeing that the one who offered mentor made a questionable vote on an afd i felt another mentor mediator would be best personal attack comment redacted by if you look however i did ask on the talk page for astrotheology to hrafn about rs n over the physico theology book he did not answer at all to that question but he went on to despise me instead with more egregious misintrepretations as for the previous dispute resolution attempts before that durova noted those were not because of disruptive editing i never caused anybody to leave wikipedia if you seriously think i did it would be more appreciate if you mentioned that evidence to support it than just baselessly blame me the previous mediation was recommended by a mentor comments redacted by i hate the show the mistakes she made also we are not all knowing saints of wikipedia policy from day one why did she even bring it old beginnings back up the computer science related one was dealt with differently since it was called unfair why i got blocked before after unblock the consensus continued and it still sustains today if i truly was trying to disrupt like durova claims do not you think a intentional disrupter would stalk her and revert her edits and such all along comment redacted by it would be a test to see if she requests unblock but since she made it clear on my talk page she never want to see me again i really doubted her olive branch i deleted a section here on my talk page of her vanish forever bit i simply did not reply to her comment redacted by you can argue all you want that i changed the section title which policy does allow for neutral view comments redacted by when arbcom said this is obvious i truly do not think he meant to block me the obvious answer is let the community help offer to help mediate i saw absolutely no other offer to help mediate besides pastordavid however i sent an e mail to ask her why why why but now she is calling it obscene and offers to show it to any admin if you read it comment redacted by like i said on an i decline reason not only has the user not apologized for obvious bad behavior but has offered further attacks and emails with multiple four letter words the g d word primarily to his opponents i see no reason to unblock the consensus of the couple arbitrators who looked at this was that this was something the community should handle and the community has handled    june\n",
            "########################################################################################################################################################################################################\n",
            "please do not vandalize pages as you did with this edit to keith if you continue to do so you will be blocked from editing\n",
            "########################################################################################################################################################################################################\n",
            "admin marksweep to the rescue marksweep lives and breathes for the moments when he can control the little world of wikipedia rules of engagement apply to all those who partake of wikipedia alas marksweep is immune to these regulations he blocks and deletes and derides at will who will rise up and denounce marksweep for the controlling little man that he is will no one have the courage block censor delete replace etc etc etc marksweep you are a man of little faith and even less courage the real josef goebbles would be proud to call you son herrgoebbles\n",
            "########################################################################################################################################################################################################\n"
          ],
          "name": "stdout"
        }
      ]
    },
    {
      "cell_type": "code",
      "metadata": {
        "id": "0Y8VXvU7fsIK"
      },
      "source": [
        "data = data.drop(columns=['char_length'])"
      ],
      "execution_count": null,
      "outputs": []
    },
    {
      "cell_type": "code",
      "metadata": {
        "id": "r-9dPuJ9gCio"
      },
      "source": [
        "X = data.comment_text"
      ],
      "execution_count": null,
      "outputs": []
    },
    {
      "cell_type": "markdown",
      "metadata": {
        "id": "pWBjvI3I7VD4"
      },
      "source": [
        "# **TFIDF Vectorization**"
      ]
    },
    {
      "cell_type": "code",
      "metadata": {
        "id": "p3SOdehWgJHv",
        "colab": {
          "base_uri": "https://localhost:8080/"
        },
        "outputId": "82cd2fbb-f04a-4d5a-dd79-d93be40606d9"
      },
      "source": [
        "# I am using this vectorizarion strategy to get the vectors for text in the comments\n",
        "vect = TfidfVectorizer(max_features=5000,stop_words='english')\n",
        "vect"
      ],
      "execution_count": null,
      "outputs": [
        {
          "output_type": "execute_result",
          "data": {
            "text/plain": [
              "TfidfVectorizer(analyzer='word', binary=False, decode_error='strict',\n",
              "                dtype=<class 'numpy.float64'>, encoding='utf-8',\n",
              "                input='content', lowercase=True, max_df=1.0, max_features=5000,\n",
              "                min_df=1, ngram_range=(1, 1), norm='l2', preprocessor=None,\n",
              "                smooth_idf=True, stop_words='english', strip_accents=None,\n",
              "                sublinear_tf=False, token_pattern='(?u)\\\\b\\\\w\\\\w+\\\\b',\n",
              "                tokenizer=None, use_idf=True, vocabulary=None)"
            ]
          },
          "metadata": {
            "tags": []
          },
          "execution_count": 34
        }
      ]
    },
    {
      "cell_type": "code",
      "metadata": {
        "id": "YkHoWjL_pj0H",
        "colab": {
          "base_uri": "https://localhost:8080/"
        },
        "outputId": "ed938550-3d1d-4ba5-c918-a8cc315737cf"
      },
      "source": [
        "# learn the vocabulary in the training data, then use it to create a document-term matrix\n",
        "X_dtm = vect.fit_transform(X)\n",
        "X_dtm"
      ],
      "execution_count": null,
      "outputs": [
        {
          "output_type": "execute_result",
          "data": {
            "text/plain": [
              "<159571x5000 sparse matrix of type '<class 'numpy.float64'>'\n",
              "\twith 3103824 stored elements in Compressed Sparse Row format>"
            ]
          },
          "metadata": {
            "tags": []
          },
          "execution_count": 35
        }
      ]
    },
    {
      "cell_type": "code",
      "metadata": {
        "id": "hENRtPTuUiaA"
      },
      "source": [
        "test = pd.read_csv('test.csv')"
      ],
      "execution_count": null,
      "outputs": []
    },
    {
      "cell_type": "code",
      "metadata": {
        "id": "qYzE_sqvX8SA",
        "colab": {
          "base_uri": "https://localhost:8080/"
        },
        "outputId": "89c50186-6814-45f6-b6c9-83f2bcdc4519"
      },
      "source": [
        "test.shape"
      ],
      "execution_count": null,
      "outputs": [
        {
          "output_type": "execute_result",
          "data": {
            "text/plain": [
              "(153164, 2)"
            ]
          },
          "metadata": {
            "tags": []
          },
          "execution_count": 37
        }
      ]
    },
    {
      "cell_type": "code",
      "metadata": {
        "id": "FkQyHRH8UmHf",
        "colab": {
          "base_uri": "https://localhost:8080/",
          "height": 204
        },
        "outputId": "5b1aeb22-f369-41dd-99b9-1f28b29ebb58"
      },
      "source": [
        "test.head()"
      ],
      "execution_count": null,
      "outputs": [
        {
          "output_type": "execute_result",
          "data": {
            "text/html": [
              "<div>\n",
              "<style scoped>\n",
              "    .dataframe tbody tr th:only-of-type {\n",
              "        vertical-align: middle;\n",
              "    }\n",
              "\n",
              "    .dataframe tbody tr th {\n",
              "        vertical-align: top;\n",
              "    }\n",
              "\n",
              "    .dataframe thead th {\n",
              "        text-align: right;\n",
              "    }\n",
              "</style>\n",
              "<table border=\"1\" class=\"dataframe\">\n",
              "  <thead>\n",
              "    <tr style=\"text-align: right;\">\n",
              "      <th></th>\n",
              "      <th>id</th>\n",
              "      <th>comment_text</th>\n",
              "    </tr>\n",
              "  </thead>\n",
              "  <tbody>\n",
              "    <tr>\n",
              "      <th>0</th>\n",
              "      <td>00001cee341fdb12</td>\n",
              "      <td>Yo bitch Ja Rule is more succesful then you'll...</td>\n",
              "    </tr>\n",
              "    <tr>\n",
              "      <th>1</th>\n",
              "      <td>0000247867823ef7</td>\n",
              "      <td>== From RfC == \\n\\n The title is fine as it is...</td>\n",
              "    </tr>\n",
              "    <tr>\n",
              "      <th>2</th>\n",
              "      <td>00013b17ad220c46</td>\n",
              "      <td>\" \\n\\n == Sources == \\n\\n * Zawe Ashton on Lap...</td>\n",
              "    </tr>\n",
              "    <tr>\n",
              "      <th>3</th>\n",
              "      <td>00017563c3f7919a</td>\n",
              "      <td>:If you have a look back at the source, the in...</td>\n",
              "    </tr>\n",
              "    <tr>\n",
              "      <th>4</th>\n",
              "      <td>00017695ad8997eb</td>\n",
              "      <td>I don't anonymously edit articles at all.</td>\n",
              "    </tr>\n",
              "  </tbody>\n",
              "</table>\n",
              "</div>"
            ],
            "text/plain": [
              "                 id                                       comment_text\n",
              "0  00001cee341fdb12  Yo bitch Ja Rule is more succesful then you'll...\n",
              "1  0000247867823ef7  == From RfC == \\n\\n The title is fine as it is...\n",
              "2  00013b17ad220c46  \" \\n\\n == Sources == \\n\\n * Zawe Ashton on Lap...\n",
              "3  00017563c3f7919a  :If you have a look back at the source, the in...\n",
              "4  00017695ad8997eb          I don't anonymously edit articles at all."
            ]
          },
          "metadata": {
            "tags": []
          },
          "execution_count": 38
        }
      ]
    },
    {
      "cell_type": "code",
      "metadata": {
        "id": "GTDoAZL7U3eR"
      },
      "source": [
        "test['comment_text'] = test['comment_text'].map(lambda x: clean_text(x))"
      ],
      "execution_count": null,
      "outputs": []
    },
    {
      "cell_type": "code",
      "metadata": {
        "id": "IkdO-_wyOAiW"
      },
      "source": [
        "X_test = [test['comment_text'][0]]\n",
        "Xvdm_test = vect.transform(X_test)"
      ],
      "execution_count": null,
      "outputs": []
    },
    {
      "cell_type": "code",
      "metadata": {
        "id": "k5Kli4pRVXdp"
      },
      "source": [
        "X_test = test['comment_text']\n",
        "Xvdm_test = vect.transform(X_test)"
      ],
      "execution_count": null,
      "outputs": []
    },
    {
      "cell_type": "code",
      "metadata": {
        "colab": {
          "base_uri": "https://localhost:8080/"
        },
        "id": "O4A7k6IbXqBS",
        "outputId": "8143ed92-3f7e-41ba-fe5d-73ed69cfebf8"
      },
      "source": [
        "Xvdm_test"
      ],
      "execution_count": null,
      "outputs": [
        {
          "output_type": "execute_result",
          "data": {
            "text/plain": [
              "<153164x5000 sparse matrix of type '<class 'numpy.float64'>'\n",
              "\twith 2592170 stored elements in Compressed Sparse Row format>"
            ]
          },
          "metadata": {
            "tags": []
          },
          "execution_count": 41
        }
      ]
    },
    {
      "cell_type": "markdown",
      "metadata": {
        "id": "1ZbLrN7g6-Iv"
      },
      "source": [
        "# **Ligistic Regression**"
      ]
    },
    {
      "cell_type": "code",
      "metadata": {
        "colab": {
          "base_uri": "https://localhost:8080/"
        },
        "id": "SQ5hCbQy-xFx",
        "outputId": "296ec998-0cf9-4f29-b12b-3cd6a9b53622"
      },
      "source": [
        "\"\"\" \n",
        "Hyperparameter Tuning for C: \n",
        "\"\"\"\n",
        "\n",
        "\n",
        "\n",
        "a = [0.001,0.01,0.1,1,10]\n",
        "for i in a:\n",
        "  avg=[]\n",
        "  max_avg = []\n",
        "  print('for C= :',i)\n",
        "  logreg = LogisticRegression(C=i)\n",
        "\n",
        "  # create submission file\n",
        "  # submission_binary = pd.read_csv('sample_submission.csv')\n",
        "\n",
        "  for label in target:\n",
        "      print('... Processing {}'.format(label))\n",
        "      y = data[label]\n",
        "      # train the model using X_dtm & y\n",
        "      logreg.fit(X_dtm, y)\n",
        "      # compute the training accuracy\n",
        "      y_pred_X = logreg.predict(X_dtm)\n",
        "      print('Training accuracy is {}'.format(accuracy_score(y, y_pred_X)))\n",
        "      avg.append(accuracy_score(y, y_pred_X))\n",
        "      # compute the predicted probabilities for X_test_dtm\n",
        "      test_y_prob = logreg.predict_proba(Xvdm_test)[:,1]\n",
        "  print('Avg accuracy across all classes is:',np.mean(avg))\n",
        "  print('#'*200)"
      ],
      "execution_count": null,
      "outputs": [
        {
          "output_type": "stream",
          "text": [
            "for C= : 0.001\n",
            "... Processing toxic\n",
            "Training accuracy is 0.9041555169799024\n",
            "... Processing severe_toxic\n",
            "Training accuracy is 0.9900044494300343\n",
            "... Processing obscene\n",
            "Training accuracy is 0.947051782592075\n",
            "... Processing threat\n",
            "Training accuracy is 0.9970044682304429\n",
            "... Processing insult\n",
            "Training accuracy is 0.9506363938309592\n",
            "... Processing identity_hate\n",
            "Training accuracy is 0.9911951419744189\n",
            "Avg accuracy across all classes is: 0.9633412921729722\n",
            "########################################################################################################################################################################################################\n",
            "for C= : 0.01\n",
            "... Processing toxic\n",
            "Training accuracy is 0.9137938597865527\n",
            "... Processing severe_toxic\n",
            "Training accuracy is 0.9900044494300343\n",
            "... Processing obscene\n",
            "Training accuracy is 0.9524412330561317\n",
            "... Processing threat\n",
            "Training accuracy is 0.9970044682304429\n",
            "... Processing insult\n",
            "Training accuracy is 0.9525415019019746\n",
            "... Processing identity_hate\n",
            "Training accuracy is 0.9911951419744189\n",
            "Avg accuracy across all classes is: 0.9661634423965926\n",
            "########################################################################################################################################################################################################\n",
            "for C= : 0.1\n",
            "... Processing toxic\n",
            "Training accuracy is 0.9442442549084733\n",
            "... Processing severe_toxic\n",
            "Training accuracy is 0.9902927223618326\n",
            "... Processing obscene\n",
            "Training accuracy is 0.9713983117233081\n",
            "... Processing threat\n",
            "Training accuracy is 0.9970107350333081\n",
            "... Processing insult\n",
            "Training accuracy is 0.9657519223417789\n",
            "... Processing identity_hate\n",
            "Training accuracy is 0.9914270136804306\n",
            "Avg accuracy across all classes is: 0.9766874933415219\n",
            "########################################################################################################################################################################################################\n",
            "for C= : 1\n",
            "... Processing toxic\n",
            "Training accuracy is 0.9600867325516541\n",
            "... Processing severe_toxic\n",
            "Training accuracy is 0.9909758038741375\n",
            "... Processing obscene\n",
            "Training accuracy is 0.9799148968170909\n",
            "... Processing threat\n",
            "Training accuracy is 0.9972802075565109\n",
            "... Processing insult\n",
            "Training accuracy is 0.9729336784252778\n",
            "... Processing identity_hate\n",
            "Training accuracy is 0.9926615738448715\n",
            "Avg accuracy across all classes is: 0.9823088155115904\n",
            "########################################################################################################################################################################################################\n",
            "for C= : 10\n",
            "... Processing toxic\n",
            "Training accuracy is 0.9636274761704821\n",
            "... Processing severe_toxic\n",
            "Training accuracy is 0.9919032906981845\n",
            "... Processing obscene\n",
            "Training accuracy is 0.9832613695470982\n",
            "... Processing threat\n",
            "Training accuracy is 0.9979695558716809\n",
            "... Processing insult\n",
            "Training accuracy is 0.9754278659656204\n",
            "... Processing identity_hate\n",
            "Training accuracy is 0.9937895983606043\n",
            "Avg accuracy across all classes is: 0.9843298594356118\n",
            "########################################################################################################################################################################################################\n"
          ],
          "name": "stdout"
        }
      ]
    },
    {
      "cell_type": "code",
      "metadata": {
        "colab": {
          "base_uri": "https://localhost:8080/"
        },
        "id": "tS7qyrH0YFbv",
        "outputId": "fb136d6a-27e8-40a3-ae03-fb89da6371ed"
      },
      "source": [
        "'''\n",
        "We can see that the best value of C is 10\n",
        "'''\n",
        "logreg = LogisticRegression(C=10)\n",
        "\n",
        "# create submission file\n",
        "submission_binary = pd.read_csv('sample_submission.csv')\n",
        "\n",
        "for label in target:\n",
        "    print('... Processing {}'.format(label))\n",
        "    y = data[label]\n",
        "    # train the model using X_dtm & y\n",
        "    logreg.fit(X_dtm, y)\n",
        "    # compute the training accuracy\n",
        "    y_pred_X = logreg.predict(X_dtm)\n",
        "    print('Training accuracy is {}'.format(accuracy_score(y, y_pred_X)))\n",
        "    print('Training F1 score is {}'.format(f1_score(y,(y_pred_X))))\n",
        "    print('Training roc_auc_score is {}'.format(roc_auc_score(y,y_pred_X)))\n",
        "    print('Confusion matri for {} is \\n{}'.format(label, confusion_matrix(y,y_pred_X)))\n",
        "  \n",
        "    # compute the predicted probabilities for X_test_dtm\n",
        "    test_y_prob = logreg.predict_proba(Xvdm_test)[:,1]\n",
        "    submission_binary[label] = test_y_prob\n"
      ],
      "execution_count": null,
      "outputs": [
        {
          "output_type": "stream",
          "text": [
            "... Processing toxic\n",
            "Training accuracy is 0.9636274761704821\n",
            "Training F1 score is 0.7873836911129022\n",
            "Training roc_auc_score is 0.8469907297464394\n",
            "Confusion matri for toxic is \n",
            "[[143020   1257]\n",
            " [  4547  10747]]\n",
            "... Processing severe_toxic\n",
            "Training accuracy is 0.9919032906981845\n",
            "Training F1 score is 0.4691865242399343\n",
            "Training roc_auc_score is 0.6781486350928589\n",
            "Confusion matri for severe_toxic is \n",
            "[[157708    268]\n",
            " [  1024    571]]\n",
            "... Processing obscene\n",
            "Training accuracy is 0.9832613695470982\n",
            "Training F1 score is 0.8277552073257238\n",
            "Training roc_auc_score is 0.8776907668580393\n",
            "Confusion matri for obscene is \n",
            "[[150482    640]\n",
            " [  2031   6418]]\n",
            "... Processing threat\n",
            "Training accuracy is 0.9979695558716809\n",
            "Training F1 score is 0.5410764872521248\n",
            "Training roc_auc_score is 0.6996745107931002\n",
            "Confusion matri for threat is \n",
            "[[159056     37]\n",
            " [   287    191]]\n",
            "... Processing insult\n",
            "Training accuracy is 0.9754278659656204\n",
            "Training F1 score is 0.7180151024811218\n",
            "Training roc_auc_score is 0.8134571363413685\n",
            "Confusion matri for insult is \n",
            "[[150658   1036]\n",
            " [  2885   4992]]\n",
            "... Processing identity_hate\n",
            "Training accuracy is 0.9937895983606043\n",
            "Training F1 score is 0.5327675624705327\n",
            "Training roc_auc_score is 0.7005902690731297\n",
            "Confusion matri for identity_hate is \n",
            "[[158015    151]\n",
            " [   840    565]]\n"
          ],
          "name": "stdout"
        }
      ]
    },
    {
      "cell_type": "code",
      "metadata": {
        "colab": {
          "base_uri": "https://localhost:8080/",
          "height": 204
        },
        "id": "nW6jjE52Ynep",
        "outputId": "a4ae64e1-2eda-4bc9-809a-34fd207e1721"
      },
      "source": [
        "submission_binary.head()"
      ],
      "execution_count": null,
      "outputs": [
        {
          "output_type": "execute_result",
          "data": {
            "text/html": [
              "<div>\n",
              "<style scoped>\n",
              "    .dataframe tbody tr th:only-of-type {\n",
              "        vertical-align: middle;\n",
              "    }\n",
              "\n",
              "    .dataframe tbody tr th {\n",
              "        vertical-align: top;\n",
              "    }\n",
              "\n",
              "    .dataframe thead th {\n",
              "        text-align: right;\n",
              "    }\n",
              "</style>\n",
              "<table border=\"1\" class=\"dataframe\">\n",
              "  <thead>\n",
              "    <tr style=\"text-align: right;\">\n",
              "      <th></th>\n",
              "      <th>id</th>\n",
              "      <th>toxic</th>\n",
              "      <th>severe_toxic</th>\n",
              "      <th>obscene</th>\n",
              "      <th>threat</th>\n",
              "      <th>insult</th>\n",
              "      <th>identity_hate</th>\n",
              "    </tr>\n",
              "  </thead>\n",
              "  <tbody>\n",
              "    <tr>\n",
              "      <th>0</th>\n",
              "      <td>00001cee341fdb12</td>\n",
              "      <td>0.999948</td>\n",
              "      <td>0.479776</td>\n",
              "      <td>0.999943</td>\n",
              "      <td>0.056418</td>\n",
              "      <td>0.966759</td>\n",
              "      <td>0.380413</td>\n",
              "    </tr>\n",
              "    <tr>\n",
              "      <th>1</th>\n",
              "      <td>0000247867823ef7</td>\n",
              "      <td>0.002899</td>\n",
              "      <td>0.000451</td>\n",
              "      <td>0.000492</td>\n",
              "      <td>0.000408</td>\n",
              "      <td>0.002889</td>\n",
              "      <td>0.000651</td>\n",
              "    </tr>\n",
              "    <tr>\n",
              "      <th>2</th>\n",
              "      <td>00013b17ad220c46</td>\n",
              "      <td>0.012997</td>\n",
              "      <td>0.000137</td>\n",
              "      <td>0.002835</td>\n",
              "      <td>0.000050</td>\n",
              "      <td>0.007571</td>\n",
              "      <td>0.001480</td>\n",
              "    </tr>\n",
              "    <tr>\n",
              "      <th>3</th>\n",
              "      <td>00017563c3f7919a</td>\n",
              "      <td>0.000999</td>\n",
              "      <td>0.002145</td>\n",
              "      <td>0.001114</td>\n",
              "      <td>0.000127</td>\n",
              "      <td>0.001220</td>\n",
              "      <td>0.000036</td>\n",
              "    </tr>\n",
              "    <tr>\n",
              "      <th>4</th>\n",
              "      <td>00017695ad8997eb</td>\n",
              "      <td>0.020477</td>\n",
              "      <td>0.000637</td>\n",
              "      <td>0.001448</td>\n",
              "      <td>0.000553</td>\n",
              "      <td>0.003553</td>\n",
              "      <td>0.000594</td>\n",
              "    </tr>\n",
              "  </tbody>\n",
              "</table>\n",
              "</div>"
            ],
            "text/plain": [
              "                 id     toxic  severe_toxic  ...    threat    insult  identity_hate\n",
              "0  00001cee341fdb12  0.999948      0.479776  ...  0.056418  0.966759       0.380413\n",
              "1  0000247867823ef7  0.002899      0.000451  ...  0.000408  0.002889       0.000651\n",
              "2  00013b17ad220c46  0.012997      0.000137  ...  0.000050  0.007571       0.001480\n",
              "3  00017563c3f7919a  0.000999      0.002145  ...  0.000127  0.001220       0.000036\n",
              "4  00017695ad8997eb  0.020477      0.000637  ...  0.000553  0.003553       0.000594\n",
              "\n",
              "[5 rows x 7 columns]"
            ]
          },
          "metadata": {
            "tags": []
          },
          "execution_count": 134
        }
      ]
    },
    {
      "cell_type": "code",
      "metadata": {
        "id": "pJs8Gv2Son6N"
      },
      "source": [
        "import joblib\n",
        "# save model\n",
        "joblib.dump(logreg, '/content/drive/MyDrive/Toxic_Comment_Detection/Logistic/logistic.pkl')\n",
        "# load model\n",
        "gbm_pickle = joblib.load('/content/drive/MyDrive/Toxic_Comment_Detection/Logistic/logistic.pkl')"
      ],
      "execution_count": null,
      "outputs": []
    },
    {
      "cell_type": "code",
      "metadata": {
        "id": "vXI5AN_Pi3lo"
      },
      "source": [
        "submission_binary.to_csv('/content/drive/MyDrive/Toxic_Comment_Detection/Logistic/submission_combined.csv', index=False)"
      ],
      "execution_count": null,
      "outputs": []
    },
    {
      "cell_type": "markdown",
      "metadata": {
        "id": "GOxeRkvg-sw8"
      },
      "source": [
        "# **Naive Bayes**"
      ]
    },
    {
      "cell_type": "code",
      "metadata": {
        "colab": {
          "base_uri": "https://localhost:8080/"
        },
        "id": "PflcKCVK7eWR",
        "outputId": "a3c8aa6d-34e2-4609-ce9d-9774612f594b"
      },
      "source": [
        "\"\"\"\n",
        "Hyperparamter Tuning For alpha in Naive Bayes\n",
        "\"\"\"\n",
        "a = [0.001,0.01,0.1,1,10]\n",
        "for i in a:\n",
        "  avg=[]\n",
        "  max_avg = []\n",
        "  print('for alpha= :',i)\n",
        "  nb = MultinomialNB(alpha=i)\n",
        "\n",
        "  # create submission file\n",
        "  # submission_binary = pd.read_csv('sample_submission.csv')\n",
        "\n",
        "  for label in target:\n",
        "      print('... Processing {}'.format(label))\n",
        "      y = data[label]\n",
        "      # train the model using X_dtm & y\n",
        "      nb.fit(X_dtm, y)\n",
        "      # compute the training accuracy\n",
        "      y_pred_X = nb.predict(X_dtm)\n",
        "      print('Training accuracy is {}'.format(accuracy_score(y, y_pred_X)))\n",
        "      avg.append(accuracy_score(y, y_pred_X))\n",
        "      # compute the predicted probabilities for X_test_dtm\n",
        "      test_y_prob = nb.predict_proba(Xvdm_test)[:,1]\n",
        "  print('Avg accuracy across all classes is:',np.mean(avg))\n",
        "  print('#'*200)\n",
        "  "
      ],
      "execution_count": null,
      "outputs": [
        {
          "output_type": "stream",
          "text": [
            "for alpha= : 0.001\n",
            "... Processing toxic\n",
            "Training accuracy is 0.9527420395936606\n",
            "... Processing severe_toxic\n",
            "Training accuracy is 0.9901172518816076\n",
            "... Processing obscene\n",
            "Training accuracy is 0.9752962631054515\n",
            "... Processing threat\n",
            "Training accuracy is 0.9972802075565109\n",
            "... Processing insult\n",
            "Training accuracy is 0.9702890876161708\n",
            "... Processing identity_hate\n",
            "Training accuracy is 0.9914458140890262\n",
            "Avg accuracy across all classes is: 0.979528443973738\n",
            "########################################################################################################################################################################################################\n",
            "for alpha= : 0.01\n",
            "... Processing toxic\n",
            "Training accuracy is 0.952723239185065\n",
            "... Processing severe_toxic\n",
            "Training accuracy is 0.990029516641495\n",
            "... Processing obscene\n",
            "Training accuracy is 0.9753087967111819\n",
            "... Processing threat\n",
            "Training accuracy is 0.9971987391192635\n",
            "... Processing insult\n",
            "Training accuracy is 0.9702452199961146\n",
            "... Processing identity_hate\n",
            "Training accuracy is 0.9914082132718351\n",
            "Avg accuracy across all classes is: 0.9794856208208259\n",
            "########################################################################################################################################################################################################\n",
            "for alpha= : 0.1\n",
            "... Processing toxic\n",
            "Training accuracy is 0.9526668379592783\n",
            "... Processing severe_toxic\n",
            "Training accuracy is 0.9900545838529557\n",
            "... Processing obscene\n",
            "Training accuracy is 0.9753714647398337\n",
            "... Processing threat\n",
            "Training accuracy is 0.9972238063307243\n",
            "... Processing insult\n",
            "Training accuracy is 0.9702138859817887\n",
            "... Processing identity_hate\n",
            "Training accuracy is 0.9915899505549254\n",
            "Avg accuracy across all classes is: 0.9795200882365845\n",
            "########################################################################################################################################################################################################\n",
            "for alpha= : 1\n",
            "... Processing toxic\n",
            "Training accuracy is 0.9517518847409617\n",
            "... Processing severe_toxic\n",
            "Training accuracy is 0.9908943354368902\n",
            "... Processing obscene\n",
            "Training accuracy is 0.974832519693428\n",
            "... Processing threat\n",
            "Training accuracy is 0.9970232686390385\n",
            "... Processing insult\n",
            "Training accuracy is 0.9699193462471251\n",
            "... Processing identity_hate\n",
            "Training accuracy is 0.9918719566838586\n",
            "Avg accuracy across all classes is: 0.9793822185735505\n",
            "########################################################################################################################################################################################################\n",
            "for alpha= : 10\n",
            "... Processing toxic\n",
            "Training accuracy is 0.9410105846300393\n",
            "... Processing severe_toxic\n",
            "Training accuracy is 0.9900169830357647\n",
            "... Processing obscene\n",
            "Training accuracy is 0.9661216637108246\n",
            "... Processing threat\n",
            "Training accuracy is 0.9970044682304429\n",
            "... Processing insult\n",
            "Training accuracy is 0.9619479730026133\n",
            "... Processing identity_hate\n",
            "Training accuracy is 0.9911951419744189\n",
            "Avg accuracy across all classes is: 0.9745494690973507\n",
            "########################################################################################################################################################################################################\n"
          ],
          "name": "stdout"
        }
      ]
    },
    {
      "cell_type": "code",
      "metadata": {
        "colab": {
          "base_uri": "https://localhost:8080/"
        },
        "id": "QpK3WGj28X4F",
        "outputId": "27d9f6fe-c6b6-436e-a4e5-0d17916da6c4"
      },
      "source": [
        "\"\"\"We can see that the alpha=0.001 So lets use it for prediction\"\"\"\n",
        "nb = MultinomialNB(alpha=0.001)\n",
        "\n",
        "  # create submission file\n",
        "submission_binary = pd.read_csv('sample_submission.csv')\n",
        "\n",
        "for label in target:\n",
        "    print('... Processing {}'.format(label))\n",
        "    y = data[label]\n",
        "    # train the model using X_dtm & y\n",
        "    nb.fit(X_dtm, y)\n",
        "    # compute the training accuracy\n",
        "    y_pred_X = nb.predict(X_dtm)\n",
        "    print('Training accuracy is {}'.format(accuracy_score(y, y_pred_X)))\n",
        "    print('Training F1 score is {}'.format(f1_score(y,(y_pred_X))))\n",
        "    print('Training roc_auc_score is {}'.format(roc_auc_score(y,y_pred_X)))\n",
        "    print('Confusion matri for {} is \\n{}'.format(label, confusion_matrix(y,y_pred_X)))\n",
        "    # compute the predicted probabilities for X_test_dtm\n",
        "    test_y_prob = nb.predict_proba(Xvdm_test)[:,1]\n",
        "    submission_binary[label] = test_y_prob\n",
        "  "
      ],
      "execution_count": null,
      "outputs": [
        {
          "output_type": "stream",
          "text": [
            "... Processing toxic\n",
            "Training accuracy is 0.9527420395936606\n",
            "Training F1 score is 0.692968527340092\n",
            "Training roc_auc_score is 0.7755902527954986\n",
            "Confusion matri for toxic is \n",
            "[[143520    757]\n",
            " [  6784   8510]]\n",
            "... Processing severe_toxic\n",
            "Training accuracy is 0.9901172518816076\n",
            "Training F1 score is 0.5033070866141732\n",
            "Training roc_auc_score is 0.7479983249707547\n",
            "Confusion matri for severe_toxic is \n",
            "[[157195    781]\n",
            " [   796    799]]\n",
            "... Processing obscene\n",
            "Training accuracy is 0.9752962631054515\n",
            "Training F1 score is 0.7261739372047792\n",
            "Training roc_auc_score is 0.8069443662364209\n",
            "Confusion matri for obscene is \n",
            "[[150402    720]\n",
            " [  3222   5227]]\n",
            "... Processing threat\n",
            "Training accuracy is 0.9972802075565109\n",
            "Training F1 score is 0.42133333333333334\n",
            "Training roc_auc_score is 0.664913685521747\n",
            "Confusion matri for threat is \n",
            "[[158979    114]\n",
            " [   320    158]]\n",
            "... Processing insult\n",
            "Training accuracy is 0.9702890876161708\n",
            "Training F1 score is 0.641186710058276\n",
            "Training roc_auc_score is 0.765258372728904\n",
            "Confusion matri for insult is \n",
            "[[150594   1100]\n",
            " [  3641   4236]]\n",
            "... Processing identity_hate\n",
            "Training accuracy is 0.9914458140890262\n",
            "Training F1 score is 0.41791044776119407\n",
            "Training roc_auc_score is 0.6729546681505799\n",
            "Confusion matri for identity_hate is \n",
            "[[157716    450]\n",
            " [   915    490]]\n"
          ],
          "name": "stdout"
        }
      ]
    },
    {
      "cell_type": "code",
      "metadata": {
        "id": "M4g_9arZo84K"
      },
      "source": [
        "import joblib\n",
        "# save model\n",
        "joblib.dump(nb, '/content/drive/MyDrive/Toxic_Comment_Detection/Naive_Bayes/nb.pkl')\n",
        "# load model\n",
        "gbm_pickle = joblib.load('/content/drive/MyDrive/Toxic_Comment_Detection/Naive_Bayes/nb.pkl')"
      ],
      "execution_count": null,
      "outputs": []
    },
    {
      "cell_type": "code",
      "metadata": {
        "colab": {
          "base_uri": "https://localhost:8080/",
          "height": 204
        },
        "id": "uP3F5h6R-YId",
        "outputId": "5ca9ccb1-245f-4225-d231-bb6aab84610b"
      },
      "source": [
        "submission_binary.head()"
      ],
      "execution_count": null,
      "outputs": [
        {
          "output_type": "execute_result",
          "data": {
            "text/html": [
              "<div>\n",
              "<style scoped>\n",
              "    .dataframe tbody tr th:only-of-type {\n",
              "        vertical-align: middle;\n",
              "    }\n",
              "\n",
              "    .dataframe tbody tr th {\n",
              "        vertical-align: top;\n",
              "    }\n",
              "\n",
              "    .dataframe thead th {\n",
              "        text-align: right;\n",
              "    }\n",
              "</style>\n",
              "<table border=\"1\" class=\"dataframe\">\n",
              "  <thead>\n",
              "    <tr style=\"text-align: right;\">\n",
              "      <th></th>\n",
              "      <th>id</th>\n",
              "      <th>toxic</th>\n",
              "      <th>severe_toxic</th>\n",
              "      <th>obscene</th>\n",
              "      <th>threat</th>\n",
              "      <th>insult</th>\n",
              "      <th>identity_hate</th>\n",
              "    </tr>\n",
              "  </thead>\n",
              "  <tbody>\n",
              "    <tr>\n",
              "      <th>0</th>\n",
              "      <td>00001cee341fdb12</td>\n",
              "      <td>0.998627</td>\n",
              "      <td>0.878147</td>\n",
              "      <td>0.996775</td>\n",
              "      <td>2.372294e-01</td>\n",
              "      <td>0.989563</td>\n",
              "      <td>0.841138</td>\n",
              "    </tr>\n",
              "    <tr>\n",
              "      <th>1</th>\n",
              "      <td>0000247867823ef7</td>\n",
              "      <td>0.012363</td>\n",
              "      <td>0.000002</td>\n",
              "      <td>0.003867</td>\n",
              "      <td>3.569641e-07</td>\n",
              "      <td>0.003718</td>\n",
              "      <td>0.000003</td>\n",
              "    </tr>\n",
              "    <tr>\n",
              "      <th>2</th>\n",
              "      <td>00013b17ad220c46</td>\n",
              "      <td>0.028675</td>\n",
              "      <td>0.000647</td>\n",
              "      <td>0.012447</td>\n",
              "      <td>1.068532e-06</td>\n",
              "      <td>0.012183</td>\n",
              "      <td>0.001823</td>\n",
              "    </tr>\n",
              "    <tr>\n",
              "      <th>3</th>\n",
              "      <td>00017563c3f7919a</td>\n",
              "      <td>0.006403</td>\n",
              "      <td>0.000023</td>\n",
              "      <td>0.002412</td>\n",
              "      <td>8.629114e-08</td>\n",
              "      <td>0.002327</td>\n",
              "      <td>0.000027</td>\n",
              "    </tr>\n",
              "    <tr>\n",
              "      <th>4</th>\n",
              "      <td>00017695ad8997eb</td>\n",
              "      <td>0.043885</td>\n",
              "      <td>0.001958</td>\n",
              "      <td>0.019780</td>\n",
              "      <td>6.718786e-04</td>\n",
              "      <td>0.017668</td>\n",
              "      <td>0.001675</td>\n",
              "    </tr>\n",
              "  </tbody>\n",
              "</table>\n",
              "</div>"
            ],
            "text/plain": [
              "                 id     toxic  ...    insult  identity_hate\n",
              "0  00001cee341fdb12  0.998627  ...  0.989563       0.841138\n",
              "1  0000247867823ef7  0.012363  ...  0.003718       0.000003\n",
              "2  00013b17ad220c46  0.028675  ...  0.012183       0.001823\n",
              "3  00017563c3f7919a  0.006403  ...  0.002327       0.000027\n",
              "4  00017695ad8997eb  0.043885  ...  0.017668       0.001675\n",
              "\n",
              "[5 rows x 7 columns]"
            ]
          },
          "metadata": {
            "tags": []
          },
          "execution_count": 139
        }
      ]
    },
    {
      "cell_type": "code",
      "metadata": {
        "id": "z8G2E8hSpQ41"
      },
      "source": [
        "submission_binary.to_csv('/content/drive/MyDrive/Toxic_Comment_Detection/Naive_Bayes/submission_combined.csv', index=False)"
      ],
      "execution_count": null,
      "outputs": []
    },
    {
      "cell_type": "markdown",
      "metadata": {
        "id": "FV9rRNYE_Sxo"
      },
      "source": [
        "# **Decision Tree**"
      ]
    },
    {
      "cell_type": "code",
      "metadata": {
        "colab": {
          "base_uri": "https://localhost:8080/"
        },
        "id": "Uft-n9Q1-eGB",
        "outputId": "70a88143-b1e0-421f-972b-ff95fc78caa7"
      },
      "source": [
        "\"\"\"\n",
        "Hyperparatmeter Tuning For max_depth in Decision Tree \n",
        "\"\"\"\n",
        "a = [1,10,100]\n",
        "for i in a:\n",
        "  avg=[]\n",
        "  max_avg = []\n",
        "  print('for max_depth= :',i)\n",
        "  dt = DecisionTreeClassifier(max_depth=i)\n",
        "\n",
        "  # create submission file\n",
        "  # submission_binary = pd.read_csv('sample_submission.csv')\n",
        "\n",
        "  for label in target:\n",
        "      print('... Processing {}'.format(label))\n",
        "      y = data[label]\n",
        "      # train the model using X_dtm & y\n",
        "      dt.fit(X_dtm, y)\n",
        "      # compute the training accuracy\n",
        "      y_pred_X = dt.predict(X_dtm)\n",
        "      print('Training accuracy is {}'.format(accuracy_score(y, y_pred_X)))\n",
        "      avg.append(accuracy_score(y, y_pred_X))\n",
        "      # compute the predicted probabilities for X_test_dtm\n",
        "      test_y_prob = dt.predict_proba(Xvdm_test)[:,1]\n",
        "  print('Avg accuracy across all classes is:',np.mean(avg))\n",
        "  print('#'*200)\n",
        "  "
      ],
      "execution_count": null,
      "outputs": [
        {
          "output_type": "stream",
          "text": [
            "for max_depth= : 1\n",
            "... Processing toxic\n",
            "Training accuracy is 0.918788501670103\n",
            "... Processing severe_toxic\n",
            "Training accuracy is 0.9900044494300343\n",
            "... Processing obscene\n",
            "Training accuracy is 0.9608199484868805\n",
            "... Processing threat\n",
            "Training accuracy is 0.9970044682304429\n",
            "... Processing insult\n",
            "Training accuracy is 0.9578870847459752\n",
            "... Processing identity_hate\n",
            "Training accuracy is 0.9916776857950379\n",
            "Avg accuracy across all classes is: 0.9693636897264123\n",
            "########################################################################################################################################################################################################\n",
            "for max_depth= : 10\n",
            "... Processing toxic\n",
            "Training accuracy is 0.9432039656328531\n",
            "... Processing severe_toxic\n",
            "Training accuracy is 0.9924109017302642\n",
            "... Processing obscene\n",
            "Training accuracy is 0.9785926014125373\n",
            "... Processing threat\n",
            "Training accuracy is 0.9980196902946024\n",
            "... Processing insult\n",
            "Training accuracy is 0.9693051995663372\n",
            "... Processing identity_hate\n",
            "Training accuracy is 0.993538926245997\n",
            "Avg accuracy across all classes is: 0.9791785474804319\n",
            "########################################################################################################################################################################################################\n",
            "for max_depth= : 100\n",
            "... Processing toxic\n",
            "Training accuracy is 0.97696323266759\n",
            "... Processing severe_toxic\n",
            "Training accuracy is 0.9985774357496037\n",
            "... Processing obscene\n",
            "Training accuracy is 0.9947860200161683\n",
            "... Processing threat\n",
            "Training accuracy is 0.9998057291111794\n",
            "... Processing insult\n",
            "Training accuracy is 0.9913580788489137\n",
            "... Processing identity_hate\n",
            "Training accuracy is 0.9986275701725251\n",
            "Avg accuracy across all classes is: 0.9933530110943299\n",
            "########################################################################################################################################################################################################\n"
          ],
          "name": "stdout"
        }
      ]
    },
    {
      "cell_type": "code",
      "metadata": {
        "colab": {
          "base_uri": "https://localhost:8080/"
        },
        "id": "cBQRo1PO_qYA",
        "outputId": "32586e51-4157-4209-f957-d141c59ea476"
      },
      "source": [
        "\"\"\"We can see that the max_depth=100 is the best... So lets use it for prediction\"\"\"\n",
        "dt = DecisionTreeClassifier(max_depth=100)\n",
        "\n",
        "  # create submission file\n",
        "submission_binary = pd.read_csv('sample_submission.csv')\n",
        "\n",
        "for label in target:\n",
        "    print('... Processing {}'.format(label))\n",
        "    y = data[label]\n",
        "    # train the model using X_dtm & y\n",
        "    dt.fit(X_dtm, y)\n",
        "    # compute the training accuracy\n",
        "    y_pred_X = dt.predict(X_dtm)\n",
        "    print('Training accuracy is {}'.format(accuracy_score(y, y_pred_X)))\n",
        "    print('Training F1 score is {}'.format(f1_score(y,(y_pred_X))))\n",
        "    print('Training roc_auc_score is {}'.format(roc_auc_score(y,y_pred_X)))\n",
        "    print('Confusion matri for {} is \\n{}'.format(label, confusion_matrix(y,y_pred_X)))\n",
        "    # compute the predicted probabilities for X_test_dtm\n",
        "    test_y_prob = dt.predict_proba(Xvdm_test)[:,1]\n",
        "    submission_binary[label] = test_y_prob\n",
        "  "
      ],
      "execution_count": null,
      "outputs": [
        {
          "output_type": "stream",
          "text": [
            "... Processing toxic\n",
            "Training accuracy is 0.9768880310332078\n",
            "Training F1 score is 0.8631945990058609\n",
            "Training roc_auc_score is 0.8802774248646715\n",
            "Confusion matri for toxic is \n",
            "[[144248     29]\n",
            " [  3659  11635]]\n",
            "... Processing severe_toxic\n",
            "Training accuracy is 0.9986025029610643\n",
            "Training F1 score is 0.9256914361879374\n",
            "Training roc_auc_score is 0.9353693918507997\n",
            "Confusion matri for severe_toxic is \n",
            "[[157959     17]\n",
            " [   206   1389]]\n",
            "... Processing obscene\n",
            "Training accuracy is 0.9947860200161683\n",
            "Training F1 score is 0.9484190948543088\n",
            "Training roc_auc_score is 0.9525512444619694\n",
            "Confusion matri for obscene is \n",
            "[[151090     32]\n",
            " [   800   7649]]\n",
            "... Processing threat\n",
            "Training accuracy is 0.9998057291111794\n",
            "Training F1 score is 0.9669861554845581\n",
            "Training roc_auc_score is 0.9748733977786789\n",
            "Confusion matri for threat is \n",
            "[[159086      7]\n",
            " [    24    454]]\n",
            "... Processing insult\n",
            "Training accuracy is 0.991370612454644\n",
            "Training F1 score is 0.9059618930547019\n",
            "Training roc_auc_score is 0.9205975448502639\n",
            "Confusion matri for insult is \n",
            "[[151561    133]\n",
            " [  1244   6633]]\n",
            "... Processing identity_hate\n",
            "Training accuracy is 0.9986275701725251\n",
            "Training F1 score is 0.9165078154784598\n",
            "Training roc_auc_score is 0.927707427346817\n",
            "Confusion matri for identity_hate is \n",
            "[[158150     16]\n",
            " [   203   1202]]\n"
          ],
          "name": "stdout"
        }
      ]
    },
    {
      "cell_type": "code",
      "metadata": {
        "colab": {
          "base_uri": "https://localhost:8080/",
          "height": 204
        },
        "id": "QkAjRJhiBC0j",
        "outputId": "a07dc14b-dd54-471a-d581-61e976f0c89a"
      },
      "source": [
        "submission_binary.head()"
      ],
      "execution_count": null,
      "outputs": [
        {
          "output_type": "execute_result",
          "data": {
            "text/html": [
              "<div>\n",
              "<style scoped>\n",
              "    .dataframe tbody tr th:only-of-type {\n",
              "        vertical-align: middle;\n",
              "    }\n",
              "\n",
              "    .dataframe tbody tr th {\n",
              "        vertical-align: top;\n",
              "    }\n",
              "\n",
              "    .dataframe thead th {\n",
              "        text-align: right;\n",
              "    }\n",
              "</style>\n",
              "<table border=\"1\" class=\"dataframe\">\n",
              "  <thead>\n",
              "    <tr style=\"text-align: right;\">\n",
              "      <th></th>\n",
              "      <th>id</th>\n",
              "      <th>toxic</th>\n",
              "      <th>severe_toxic</th>\n",
              "      <th>obscene</th>\n",
              "      <th>threat</th>\n",
              "      <th>insult</th>\n",
              "      <th>identity_hate</th>\n",
              "    </tr>\n",
              "  </thead>\n",
              "  <tbody>\n",
              "    <tr>\n",
              "      <th>0</th>\n",
              "      <td>00001cee341fdb12</td>\n",
              "      <td>1.000000</td>\n",
              "      <td>1.000000</td>\n",
              "      <td>1.000000</td>\n",
              "      <td>0.000000</td>\n",
              "      <td>1.000000</td>\n",
              "      <td>0.001004</td>\n",
              "    </tr>\n",
              "    <tr>\n",
              "      <th>1</th>\n",
              "      <td>0000247867823ef7</td>\n",
              "      <td>0.029701</td>\n",
              "      <td>0.000461</td>\n",
              "      <td>0.004944</td>\n",
              "      <td>0.000033</td>\n",
              "      <td>0.007597</td>\n",
              "      <td>0.001004</td>\n",
              "    </tr>\n",
              "    <tr>\n",
              "      <th>2</th>\n",
              "      <td>00013b17ad220c46</td>\n",
              "      <td>0.029701</td>\n",
              "      <td>0.000461</td>\n",
              "      <td>0.004944</td>\n",
              "      <td>0.000033</td>\n",
              "      <td>0.007597</td>\n",
              "      <td>0.001004</td>\n",
              "    </tr>\n",
              "    <tr>\n",
              "      <th>3</th>\n",
              "      <td>00017563c3f7919a</td>\n",
              "      <td>0.029701</td>\n",
              "      <td>0.000461</td>\n",
              "      <td>0.004944</td>\n",
              "      <td>0.000033</td>\n",
              "      <td>0.007597</td>\n",
              "      <td>0.001004</td>\n",
              "    </tr>\n",
              "    <tr>\n",
              "      <th>4</th>\n",
              "      <td>00017695ad8997eb</td>\n",
              "      <td>0.029701</td>\n",
              "      <td>0.000461</td>\n",
              "      <td>0.004944</td>\n",
              "      <td>0.000033</td>\n",
              "      <td>0.007597</td>\n",
              "      <td>0.001004</td>\n",
              "    </tr>\n",
              "  </tbody>\n",
              "</table>\n",
              "</div>"
            ],
            "text/plain": [
              "                 id     toxic  severe_toxic  ...    threat    insult  identity_hate\n",
              "0  00001cee341fdb12  1.000000      1.000000  ...  0.000000  1.000000       0.001004\n",
              "1  0000247867823ef7  0.029701      0.000461  ...  0.000033  0.007597       0.001004\n",
              "2  00013b17ad220c46  0.029701      0.000461  ...  0.000033  0.007597       0.001004\n",
              "3  00017563c3f7919a  0.029701      0.000461  ...  0.000033  0.007597       0.001004\n",
              "4  00017695ad8997eb  0.029701      0.000461  ...  0.000033  0.007597       0.001004\n",
              "\n",
              "[5 rows x 7 columns]"
            ]
          },
          "metadata": {
            "tags": []
          },
          "execution_count": 142
        }
      ]
    },
    {
      "cell_type": "code",
      "metadata": {
        "id": "xbg0fVO0pczG"
      },
      "source": [
        "import joblib\n",
        "# save model\n",
        "joblib.dump(dt, '/content/drive/MyDrive/Toxic_Comment_Detection/DT/dt.pkl')\n",
        "# load model\n",
        "dt_pickle = joblib.load('/content/drive/MyDrive/Toxic_Comment_Detection/DT/dt.pkl')"
      ],
      "execution_count": null,
      "outputs": []
    },
    {
      "cell_type": "code",
      "metadata": {
        "id": "lDOfKyuGgkj3"
      },
      "source": [
        "submission_binary.to_csv('/content/drive/MyDrive/Toxic_Comment_Detection/DT/submission_combined.csv', index=False)"
      ],
      "execution_count": null,
      "outputs": []
    },
    {
      "cell_type": "markdown",
      "metadata": {
        "id": "vxq_MIBO9t0M"
      },
      "source": [
        "# **LIGHTGBM**"
      ]
    },
    {
      "cell_type": "code",
      "metadata": {
        "id": "HTf9wW9xlBR2"
      },
      "source": [
        "from lightgbm import LGBMClassifier"
      ],
      "execution_count": null,
      "outputs": []
    },
    {
      "cell_type": "code",
      "metadata": {
        "colab": {
          "base_uri": "https://localhost:8080/"
        },
        "id": "HaArZiCS5zXk",
        "outputId": "5cc1bd99-9e85-4d2e-c342-02c550fb05eb"
      },
      "source": [
        "data.columns[2:]"
      ],
      "execution_count": null,
      "outputs": [
        {
          "output_type": "execute_result",
          "data": {
            "text/plain": [
              "Index(['toxic', 'severe_toxic', 'obscene', 'threat', 'insult',\n",
              "       'identity_hate'],\n",
              "      dtype='object')"
            ]
          },
          "metadata": {
            "tags": []
          },
          "execution_count": 121
        }
      ]
    },
    {
      "cell_type": "code",
      "metadata": {
        "colab": {
          "base_uri": "https://localhost:8080/",
          "height": 35
        },
        "id": "kwdVrhRj59Z6",
        "outputId": "72714728-ed79-47cc-851a-d519a0d66329"
      },
      "source": [
        "data.columns[1]"
      ],
      "execution_count": null,
      "outputs": [
        {
          "output_type": "execute_result",
          "data": {
            "application/vnd.google.colaboratory.intrinsic+json": {
              "type": "string"
            },
            "text/plain": [
              "'comment_text'"
            ]
          },
          "metadata": {
            "tags": []
          },
          "execution_count": 122
        }
      ]
    },
    {
      "cell_type": "code",
      "metadata": {
        "id": "IN8Irqro5Zpd"
      },
      "source": [
        "X_train,X_test,y_train,y_test = train_test_split(data[data.columns[1]],data[data.columns[2:]],test_size=0.2,random_state=40)"
      ],
      "execution_count": null,
      "outputs": []
    },
    {
      "cell_type": "code",
      "metadata": {
        "id": "geazGUTC42Fn"
      },
      "source": [
        "lgb = LGBMClassifier(boosting_type='gbdt',num_leaves=31,max_depth=-1,learning_rate=0.01,n_estimators=5)"
      ],
      "execution_count": null,
      "outputs": []
    },
    {
      "cell_type": "code",
      "metadata": {
        "colab": {
          "base_uri": "https://localhost:8080/"
        },
        "id": "7o_7-6cK6gdt",
        "outputId": "6009fa81-06cb-4297-a527-0ccba07f9d48"
      },
      "source": [
        "vect = TfidfVectorizer(max_features=5000,stop_words='english')\n",
        "vect"
      ],
      "execution_count": null,
      "outputs": [
        {
          "output_type": "execute_result",
          "data": {
            "text/plain": [
              "TfidfVectorizer(analyzer='word', binary=False, decode_error='strict',\n",
              "                dtype=<class 'numpy.float64'>, encoding='utf-8',\n",
              "                input='content', lowercase=True, max_df=1.0, max_features=5000,\n",
              "                min_df=1, ngram_range=(1, 1), norm='l2', preprocessor=None,\n",
              "                smooth_idf=True, stop_words='english', strip_accents=None,\n",
              "                sublinear_tf=False, token_pattern='(?u)\\\\b\\\\w\\\\w+\\\\b',\n",
              "                tokenizer=None, use_idf=True, vocabulary=None)"
            ]
          },
          "metadata": {
            "tags": []
          },
          "execution_count": 125
        }
      ]
    },
    {
      "cell_type": "code",
      "metadata": {
        "id": "t8Sz_wCC6iF7"
      },
      "source": [
        "X_dtm_train = vect.fit_transform(X_train)\n",
        "X_dtm_test = vect.transform(X_test)"
      ],
      "execution_count": null,
      "outputs": []
    },
    {
      "cell_type": "code",
      "metadata": {
        "colab": {
          "base_uri": "https://localhost:8080/"
        },
        "id": "M4B4p5r_6zQR",
        "outputId": "f619991f-3b66-4209-e8f1-01b93a2f8820"
      },
      "source": [
        "lgb = LGBMClassifier(boosting_type='gbdt',num_leaves=31,max_depth=-1,learning_rate=0.1,n_estimators=5)\n",
        "\n",
        "  # create submission file\n",
        "submission_binary = pd.read_csv('sample_submission.csv')\n",
        "\n",
        "for label in y_train:\n",
        "    print('... Processing {}'.format(label))\n",
        "    # y_train = X_train[label]\n",
        "\n",
        "    # train the model using X_dtm & y\n",
        "    lgb.fit(X_dtm_train, y_train[label])\n",
        "    # compute the training accuracy\n",
        "    y_pred_X = lgb.predict(X_dtm_test)\n",
        "    print('Training accuracy is {}'.format(accuracy_score(y_test[label], y_pred_X)))\n",
        "    # compute the predicted probabilities for X_test_dtm\n",
        "    test_y_prob = lgb.predict_proba(Xvdm_test)[:,1]\n",
        "    submission_binary[label] = test_y_prob"
      ],
      "execution_count": null,
      "outputs": [
        {
          "output_type": "stream",
          "text": [
            "... Processing toxic\n",
            "Training accuracy is 0.9026163246122513\n",
            "... Processing severe_toxic\n",
            "Training accuracy is 0.9890960363465455\n",
            "... Processing obscene\n",
            "Training accuracy is 0.9607081309728968\n",
            "... Processing threat\n",
            "Training accuracy is 0.9950493498355005\n",
            "... Processing insult\n",
            "Training accuracy is 0.9494908350305499\n",
            "... Processing identity_hate\n",
            "Training accuracy is 0.9919160269465769\n"
          ],
          "name": "stdout"
        }
      ]
    },
    {
      "cell_type": "code",
      "metadata": {
        "id": "TsqHBu9hnlbX"
      },
      "source": [
        "import joblib\n",
        "# save model\n",
        "joblib.dump(lgb, '/content/drive/MyDrive/Toxic_Comment_Detection/LGBM/lgb.pkl')\n",
        "# load model\n",
        "gbm_pickle = joblib.load('/content/drive/MyDrive/Toxic_Comment_Detection/LGBM/lgb.pkl')"
      ],
      "execution_count": null,
      "outputs": []
    },
    {
      "cell_type": "markdown",
      "metadata": {
        "id": "GHwpHH81rqOn"
      },
      "source": [
        "# **Voting Classifier**"
      ]
    },
    {
      "cell_type": "code",
      "metadata": {
        "id": "JwI9ohYt89e1",
        "colab": {
          "base_uri": "https://localhost:8080/"
        },
        "outputId": "394df871-4cb6-4599-c443-cfe5e56da878"
      },
      "source": [
        "from sklearn.ensemble import VotingClassifier\n",
        "model1 = LogisticRegression(C =10 ,random_state=1)\n",
        "model2 = DecisionTreeClassifier(random_state=1,max_depth=100)\n",
        "model3 = MultinomialNB(alpha = 0.001)\n",
        "model4 = LGBMClassifier(boosting_type='gbdt',num_leaves=31,max_depth=-1,learning_rate=0.01,n_estimators=5)\n",
        "model = VotingClassifier(estimators=[('lr', model1), ('dt', model2), ('nb', model3), ('lgb',model4)], voting='soft')\n",
        "\n",
        "\n",
        "for label in y_train:\n",
        "    print('... Processing {}'.format(label))\n",
        "    # train the model using X_dtm & y\n",
        "    model.fit(X_dtm_train, y_train[label])\n",
        "    # compute the training accuracy\n",
        "    y_pred_X = model.predict(X_dtm_test)\n",
        "    print('Training accuracy is {}'.format(accuracy_score(y_test[label], y_pred_X)))\n",
        "    # compute the predicted probabilities for X_test_dtm\n",
        "    test_y_prob = model.predict_proba(Xvdm_test)[:,1]\n",
        "    submission_binary[label] = test_y_prob"
      ],
      "execution_count": null,
      "outputs": [
        {
          "output_type": "stream",
          "text": [
            "... Processing toxic\n",
            "Training accuracy is 0.9547234842550525\n",
            "... Processing severe_toxic\n",
            "Training accuracy is 0.9903493655021149\n",
            "... Processing obscene\n",
            "Training accuracy is 0.9779414068619772\n",
            "... Processing threat\n",
            "Training accuracy is 0.9967413441955193\n",
            "... Processing insult\n",
            "Training accuracy is 0.9679461068463105\n",
            "... Processing identity_hate\n",
            "Training accuracy is 0.9918220272599091\n"
          ],
          "name": "stdout"
        }
      ]
    },
    {
      "cell_type": "code",
      "metadata": {
        "id": "5vbn8KgbtCMk"
      },
      "source": [
        "import joblib\n",
        "# save model\n",
        "joblib.dump(model, '/content/drive/MyDrive/Toxic_Comment_Detection/ML_Ensembles/ensemble.pkl')\n",
        "# load model\n",
        "ml_pickle = joblib.load('/content/drive/MyDrive/Toxic_Comment_Detection/ML_Ensembles/ensemble.pkl')"
      ],
      "execution_count": null,
      "outputs": []
    },
    {
      "cell_type": "code",
      "metadata": {
        "id": "fp479wY1uTEl"
      },
      "source": [
        "submission_binary.to_csv('/content/drive/MyDrive/Toxic_Comment_Detection/ML_Ensembles/submission_combined.csv', index=False)"
      ],
      "execution_count": null,
      "outputs": []
    },
    {
      "cell_type": "markdown",
      "metadata": {
        "id": "cVYKqPGTu14D"
      },
      "source": [
        "# **ML Ensembling**"
      ]
    },
    {
      "cell_type": "code",
      "metadata": {
        "id": "3c9j2dO9uaqH"
      },
      "source": [
        "from sklearn.ensemble import VotingClassifier\n",
        "model1 = LogisticRegression(C =10 ,random_state=1)\n",
        "model2 = DecisionTreeClassifier(random_state=1,max_depth=100)\n",
        "model3 = MultinomialNB(alpha = 0.001)\n",
        "model4 = LGBMClassifier(boosting_type='gbdt',num_leaves=31,max_depth=-1,learning_rate=0.01,n_estimators=5)\n",
        "model = VotingClassifier(estimators=[('lr', model1), ('dt', model2), ('nb', model3), ('lgb',model4)], voting='soft')\n",
        "\n",
        "\n",
        "for label in y_train:\n",
        "    print('... Processing {}'.format(label))\n",
        "    # train the model using X_dtm & y\n",
        "    model.fit(X_dtm_train, y_train[label])\n",
        "    # compute the training accuracy\n",
        "    y_pred_X = model.predict(X_dtm_test)\n",
        "    print('Training accuracy is {}'.format(accuracy_score(y_test[label], y_pred_X)))\n",
        "    # compute the predicted probabilities for X_test_dtm\n",
        "    test_y_prob = model.predict_proba(Xvdm_test)[:,1]\n",
        "    submission_binary[label] = test_y_prob"
      ],
      "execution_count": null,
      "outputs": []
    },
    {
      "cell_type": "code",
      "metadata": {
        "id": "HRLJbMgZrFM7"
      },
      "source": [
        "lgbm = pd.read_csv('/content/drive/MyDrive/Toxic_Comment_Detection/LGBM/submission_combined.csv')\n",
        "lstm = pd.read_csv('/content/drive/MyDrive/Toxic_Comment_Detection/LSTM/submission_combined.csv')\n",
        "logistic = pd.read_csv('/content/drive/MyDrive/Toxic_Comment_Detection/Logistic/submission_combined.csv')\n",
        "nb = pd.read_csv('/content/drive/MyDrive/Toxic_Comment_Detection/Naive_Bayes/submission_combined.csv')"
      ],
      "execution_count": null,
      "outputs": []
    },
    {
      "cell_type": "code",
      "metadata": {
        "id": "V5JfxPqyrUR0"
      },
      "source": [
        "final = lgbm.copy()"
      ],
      "execution_count": null,
      "outputs": []
    },
    {
      "cell_type": "code",
      "metadata": {
        "id": "O1ssatLOrfGf"
      },
      "source": [
        "label_cols = ['toxic', 'severe_toxic', 'obscene', 'threat', 'insult', 'identity_hate']\n",
        "final = lgbm.copy()\n",
        "final[label_cols] = (lgbm[label_cols] + lstm[label_cols] + logistic[label_cols] + nb[label_cols])/4"
      ],
      "execution_count": null,
      "outputs": []
    },
    {
      "cell_type": "code",
      "metadata": {
        "colab": {
          "base_uri": "https://localhost:8080/",
          "height": 419
        },
        "id": "xUHDij-mrxOQ",
        "outputId": "e360fc75-c0d8-4065-a007-94643c4a5b77"
      },
      "source": [
        "final"
      ],
      "execution_count": null,
      "outputs": [
        {
          "output_type": "execute_result",
          "data": {
            "text/html": [
              "<div>\n",
              "<style scoped>\n",
              "    .dataframe tbody tr th:only-of-type {\n",
              "        vertical-align: middle;\n",
              "    }\n",
              "\n",
              "    .dataframe tbody tr th {\n",
              "        vertical-align: top;\n",
              "    }\n",
              "\n",
              "    .dataframe thead th {\n",
              "        text-align: right;\n",
              "    }\n",
              "</style>\n",
              "<table border=\"1\" class=\"dataframe\">\n",
              "  <thead>\n",
              "    <tr style=\"text-align: right;\">\n",
              "      <th></th>\n",
              "      <th>id</th>\n",
              "      <th>toxic</th>\n",
              "      <th>severe_toxic</th>\n",
              "      <th>obscene</th>\n",
              "      <th>threat</th>\n",
              "      <th>insult</th>\n",
              "      <th>identity_hate</th>\n",
              "    </tr>\n",
              "  </thead>\n",
              "  <tbody>\n",
              "    <tr>\n",
              "      <th>0</th>\n",
              "      <td>00001cee341fdb12</td>\n",
              "      <td>0.767116</td>\n",
              "      <td>0.497646</td>\n",
              "      <td>0.750453</td>\n",
              "      <td>0.087830</td>\n",
              "      <td>0.729815</td>\n",
              "      <td>0.361190</td>\n",
              "    </tr>\n",
              "    <tr>\n",
              "      <th>1</th>\n",
              "      <td>0000247867823ef7</td>\n",
              "      <td>0.025750</td>\n",
              "      <td>0.001838</td>\n",
              "      <td>0.011553</td>\n",
              "      <td>0.002756</td>\n",
              "      <td>0.011511</td>\n",
              "      <td>0.001861</td>\n",
              "    </tr>\n",
              "    <tr>\n",
              "      <th>2</th>\n",
              "      <td>00013b17ad220c46</td>\n",
              "      <td>0.030571</td>\n",
              "      <td>0.001929</td>\n",
              "      <td>0.013335</td>\n",
              "      <td>0.000524</td>\n",
              "      <td>0.014121</td>\n",
              "      <td>0.002476</td>\n",
              "    </tr>\n",
              "    <tr>\n",
              "      <th>3</th>\n",
              "      <td>00017563c3f7919a</td>\n",
              "      <td>0.021974</td>\n",
              "      <td>0.002230</td>\n",
              "      <td>0.010021</td>\n",
              "      <td>0.000559</td>\n",
              "      <td>0.010011</td>\n",
              "      <td>0.001557</td>\n",
              "    </tr>\n",
              "    <tr>\n",
              "      <th>4</th>\n",
              "      <td>00017695ad8997eb</td>\n",
              "      <td>0.040483</td>\n",
              "      <td>0.002524</td>\n",
              "      <td>0.016078</td>\n",
              "      <td>0.000857</td>\n",
              "      <td>0.015314</td>\n",
              "      <td>0.002156</td>\n",
              "    </tr>\n",
              "    <tr>\n",
              "      <th>...</th>\n",
              "      <td>...</td>\n",
              "      <td>...</td>\n",
              "      <td>...</td>\n",
              "      <td>...</td>\n",
              "      <td>...</td>\n",
              "      <td>...</td>\n",
              "      <td>...</td>\n",
              "    </tr>\n",
              "    <tr>\n",
              "      <th>153159</th>\n",
              "      <td>fffcd0960ee309b5</td>\n",
              "      <td>0.547216</td>\n",
              "      <td>0.011498</td>\n",
              "      <td>0.234687</td>\n",
              "      <td>0.001753</td>\n",
              "      <td>0.152328</td>\n",
              "      <td>0.006534</td>\n",
              "    </tr>\n",
              "    <tr>\n",
              "      <th>153160</th>\n",
              "      <td>fffd7a9a6eb32c16</td>\n",
              "      <td>0.067660</td>\n",
              "      <td>0.002358</td>\n",
              "      <td>0.025707</td>\n",
              "      <td>0.001673</td>\n",
              "      <td>0.027673</td>\n",
              "      <td>0.008414</td>\n",
              "    </tr>\n",
              "    <tr>\n",
              "      <th>153161</th>\n",
              "      <td>fffda9e8d6fafa9e</td>\n",
              "      <td>0.026085</td>\n",
              "      <td>0.001729</td>\n",
              "      <td>0.025667</td>\n",
              "      <td>0.000516</td>\n",
              "      <td>0.015423</td>\n",
              "      <td>0.001605</td>\n",
              "    </tr>\n",
              "    <tr>\n",
              "      <th>153162</th>\n",
              "      <td>fffe8f1340a79fc2</td>\n",
              "      <td>0.028896</td>\n",
              "      <td>0.001772</td>\n",
              "      <td>0.012812</td>\n",
              "      <td>0.000758</td>\n",
              "      <td>0.014033</td>\n",
              "      <td>0.011793</td>\n",
              "    </tr>\n",
              "    <tr>\n",
              "      <th>153163</th>\n",
              "      <td>ffffce3fb183ee80</td>\n",
              "      <td>0.700879</td>\n",
              "      <td>0.026062</td>\n",
              "      <td>0.562947</td>\n",
              "      <td>0.010204</td>\n",
              "      <td>0.397392</td>\n",
              "      <td>0.014057</td>\n",
              "    </tr>\n",
              "  </tbody>\n",
              "</table>\n",
              "<p>153164 rows × 7 columns</p>\n",
              "</div>"
            ],
            "text/plain": [
              "                      id     toxic  ...    insult  identity_hate\n",
              "0       00001cee341fdb12  0.767116  ...  0.729815       0.361190\n",
              "1       0000247867823ef7  0.025750  ...  0.011511       0.001861\n",
              "2       00013b17ad220c46  0.030571  ...  0.014121       0.002476\n",
              "3       00017563c3f7919a  0.021974  ...  0.010011       0.001557\n",
              "4       00017695ad8997eb  0.040483  ...  0.015314       0.002156\n",
              "...                  ...       ...  ...       ...            ...\n",
              "153159  fffcd0960ee309b5  0.547216  ...  0.152328       0.006534\n",
              "153160  fffd7a9a6eb32c16  0.067660  ...  0.027673       0.008414\n",
              "153161  fffda9e8d6fafa9e  0.026085  ...  0.015423       0.001605\n",
              "153162  fffe8f1340a79fc2  0.028896  ...  0.014033       0.011793\n",
              "153163  ffffce3fb183ee80  0.700879  ...  0.397392       0.014057\n",
              "\n",
              "[153164 rows x 7 columns]"
            ]
          },
          "metadata": {
            "tags": []
          },
          "execution_count": 74
        }
      ]
    },
    {
      "cell_type": "code",
      "metadata": {
        "id": "dZPk9_EArySQ"
      },
      "source": [
        "final.to_csv('/content/drive/MyDrive/Toxic_Comment_Detection/ML_Ensembles/LSTM_LGBM_LOGISTIC_NB.csv', index=False)"
      ],
      "execution_count": null,
      "outputs": []
    },
    {
      "cell_type": "markdown",
      "metadata": {
        "id": "B1Ya7NUWgpXJ"
      },
      "source": [
        "# **Deep Learning Approach**"
      ]
    },
    {
      "cell_type": "code",
      "metadata": {
        "id": "hPlEtKYigrsR"
      },
      "source": [
        "max_len = 120 \n",
        "embedding_dim = 100\n",
        "vocabulary_size = 20000 #35000\n",
        "num_tokens = vocabulary_size+1 #including 0\n",
        "\n",
        "tokenizer = Tokenizer(num_words = vocabulary_size+1,\\\n",
        "                      filters='!\"#$%&()*+,-./:;<=>?@[\\\\]^_`{|}~\\t\\n0123456789',\\\n",
        "                      lower=True, split=' ')\n",
        "\n",
        "X_train_raw = data[\"comment_text\"]\n",
        "X_test_raw = data_test[\"comment_text\"]\n",
        "\n",
        "bad_comment_cat = ['toxic', 'severe_toxic', 'obscene', 'threat',\\\n",
        "       'insult', 'identity_hate']\n",
        "Y_train = data[bad_comment_cat]\n"
      ],
      "execution_count": null,
      "outputs": []
    },
    {
      "cell_type": "code",
      "metadata": {
        "colab": {
          "base_uri": "https://localhost:8080/"
        },
        "id": "Tb79KQOdfiid",
        "outputId": "7656f5df-4b63-4e8a-c74e-63ee9eab46c6"
      },
      "source": [
        "# preprocess data\n",
        "# X_train_raw = X_train_raw.apply(lambda x: preprocess(str(x)))\n",
        "# X_test_raw = X_test_raw.apply(lambda x: preprocess(str(x)))\n",
        "# example X_train_raw.loc[126]\n",
        "\n",
        "# tokenize comment text\n",
        "tokenizer.fit_on_texts(X_train_raw)\n",
        "tokenizer.fit_on_texts(X_test_raw)\n",
        "\n",
        "X_train = pad_sequences(tokenizer.texts_to_sequences(X_train_raw),\\\n",
        "                        maxlen = max_len, padding='post')\n",
        "X_test = pad_sequences(tokenizer.texts_to_sequences(X_test_raw),\\\n",
        "                       maxlen = max_len, padding = \"post\")\n",
        "\n",
        "# shuffle training data and split it into a training part and a validation part\n",
        "x_train, x_val, y_train, y_val = train_test_split(X_train,Y_train,test_size=0.12, random_state=40)\n",
        "print(x_train.shape,\" \",y_train.shape,\" \",x_val.shape,\" \",y_val.shape)"
      ],
      "execution_count": null,
      "outputs": [
        {
          "output_type": "stream",
          "text": [
            "(140422, 120)   (140422, 6)   (19149, 120)   (19149, 6)\n"
          ],
          "name": "stdout"
        }
      ]
    },
    {
      "cell_type": "code",
      "metadata": {
        "id": "LwL7gI3UgRlm"
      },
      "source": [
        "from tqdm import tqdm_notebook\n",
        "# we oad the glove vectors\n",
        "embeddings_dict = {}\n",
        "with open('/content/drive/MyDrive/glove.6B.100d.txt', 'r') as f:\n",
        "    for line in f:\n",
        "        values = line.split()\n",
        "        word = values[0]\n",
        "        vector = np.asarray(values[1:], \"float32\")\n",
        "        embeddings_dict[word] = vector"
      ],
      "execution_count": null,
      "outputs": []
    },
    {
      "cell_type": "code",
      "metadata": {
        "id": "0ELV_SbEglLk"
      },
      "source": [
        "EMBEDDING_DIMS = 100     # glove vectors are 300 dims\n",
        "VOCAB_SIZE = len(list(tokenizer.word_counts.keys()))+1\n",
        "embedding_matrix = np.zeros((VOCAB_SIZE+1, EMBEDDING_DIMS))\n",
        "for word, i in tokenizer.word_index.items():\n",
        "    embedding_vector = embeddings_dict.get(word)\n",
        "    if embedding_vector is not None:\n",
        "        # words not found in embedding index will be all-zeros.\n",
        "        embedding_matrix[i] = embedding_vector"
      ],
      "execution_count": null,
      "outputs": []
    },
    {
      "cell_type": "code",
      "metadata": {
        "id": "cGMOqmjODJBR"
      },
      "source": [
        "class RocAucEvaluation(Callback):\n",
        "    def __init__(self, validation_data=(), interval=1):\n",
        "        super(Callback, self).__init__()\n",
        "\n",
        "        self.interval = interval\n",
        "        self.X_val, self.y_val = validation_data\n",
        "\n",
        "    def on_epoch_end(self, epoch, logs={}):\n",
        "        if epoch % self.interval == 0:\n",
        "            y_pred = self.model.predict(self.X_val, verbose=0)\n",
        "            score = roc_auc_score(self.y_val, y_pred)\n",
        "            print(\"\\n ROC-AUC - epoch: {:d} - score: {:.6f}\".format(epoch+1, score))\n",
        "            \n",
        "            "
      ],
      "execution_count": null,
      "outputs": []
    },
    {
      "cell_type": "code",
      "metadata": {
        "id": "CZyT6HpFC7vt"
      },
      "source": [
        "file_path= '/content/model_saved/'\n",
        "check_point = ModelCheckpoint(file_path, monitor = \"val_loss\", verbose = 1,\n",
        "                              save_best_only = True, mode = \"min\")\n",
        "ra_val = RocAucEvaluation(validation_data=(x_val, y_val), interval = 1)\n",
        "early_stop = EarlyStopping(monitor = \"val_loss\", mode = \"min\", patience = 5)"
      ],
      "execution_count": null,
      "outputs": []
    },
    {
      "cell_type": "code",
      "metadata": {
        "id": "espB1EaXKi9a"
      },
      "source": [
        "from tensorflow.keras.utils import plot_model"
      ],
      "execution_count": null,
      "outputs": []
    },
    {
      "cell_type": "code",
      "metadata": {
        "id": "sr4ip1DLB0Pd"
      },
      "source": [
        "\n",
        "def build_model(lr = 0.0, lr_d = 0.0, units = 0, dr = 0.0):\n",
        "    inp = Input(shape = (max_len,))\n",
        "    x = Embedding(input_dim=(len(tokenizer.word_index.items())+2), output_dim = 100, weights = [embedding_matrix], trainable = False)(inp)\n",
        "    x1 = SpatialDropout1D(dr)(x)\n",
        "\n",
        "    x = Bidirectional(GRU(units, return_sequences = True))(x1)\n",
        "    x = Conv1D(int(units/2), kernel_size = 2, padding = \"valid\", kernel_initializer = \"he_uniform\")(x)\n",
        "    \n",
        "    y = Bidirectional(LSTM(units, return_sequences = True))(x1)\n",
        "    y = Conv1D(int(units/2), kernel_size = 2, padding = \"valid\", kernel_initializer = \"he_uniform\")(y)\n",
        "    \n",
        "    avg_pool1 = GlobalAveragePooling1D()(x)\n",
        "    max_pool1 = GlobalMaxPooling1D()(x)\n",
        "    \n",
        "    avg_pool2 = GlobalAveragePooling1D()(y)\n",
        "    max_pool2 = GlobalMaxPooling1D()(y)\n",
        "    \n",
        "    \n",
        "    x = concatenate([avg_pool1, max_pool1, avg_pool2, max_pool2])\n",
        "\n",
        "    x = Dense(6, activation = \"sigmoid\")(x)\n",
        "    model = Model(inputs = inp, outputs = x)\n",
        "    plot_model(model)\n",
        "    model.compile(loss = \"binary_crossentropy\", optimizer = tf.keras.optimizers.Adam(lr = lr, decay = lr_d), metrics = [\"accuracy\"])\n",
        "    history = model.fit(x_train, y_train, batch_size = 256, epochs = 10, validation_data = (x_val, y_val), \n",
        "                        verbose = 1, callbacks = [ra_val, check_point, early_stop])\n",
        "    # model = load_model(file_path)\n",
        "    return history,model\n",
        "    \n",
        "    "
      ],
      "execution_count": null,
      "outputs": []
    },
    {
      "cell_type": "code",
      "metadata": {
        "colab": {
          "base_uri": "https://localhost:8080/"
        },
        "id": "GRp95u3jBs3J",
        "outputId": "01b2cb61-a8fa-46fb-f311-c94d9afd8279"
      },
      "source": [
        "history,model = build_model(lr = 1e-3, lr_d = 0, units = 112, dr = 0.2)\n",
        "# pred = model.predict(test, batch_size = 1024, verbose = 1)"
      ],
      "execution_count": null,
      "outputs": [
        {
          "output_type": "stream",
          "text": [
            "Epoch 1/10\n",
            "549/549 [==============================] - 44s 60ms/step - loss: 0.1047 - accuracy: 0.8326 - val_loss: 0.0535 - val_accuracy: 0.9839\n",
            "\n",
            " ROC-AUC - epoch: 1 - score: 0.974893\n",
            "\n",
            "Epoch 00001: val_loss improved from inf to 0.05353, saving model to /content/model_saved/\n"
          ],
          "name": "stdout"
        },
        {
          "output_type": "stream",
          "text": [
            "WARNING:absl:Found untraced functions such as gru_cell_1_layer_call_and_return_conditional_losses, gru_cell_1_layer_call_fn, gru_cell_2_layer_call_and_return_conditional_losses, gru_cell_2_layer_call_fn, lstm_cell_1_layer_call_and_return_conditional_losses while saving (showing 5 of 20). These functions will not be directly callable after loading.\n",
            "WARNING:absl:Found untraced functions such as gru_cell_1_layer_call_and_return_conditional_losses, gru_cell_1_layer_call_fn, gru_cell_2_layer_call_and_return_conditional_losses, gru_cell_2_layer_call_fn, lstm_cell_1_layer_call_and_return_conditional_losses while saving (showing 5 of 20). These functions will not be directly callable after loading.\n"
          ],
          "name": "stderr"
        },
        {
          "output_type": "stream",
          "text": [
            "INFO:tensorflow:Assets written to: /content/model_saved/assets\n"
          ],
          "name": "stdout"
        },
        {
          "output_type": "stream",
          "text": [
            "INFO:tensorflow:Assets written to: /content/model_saved/assets\n"
          ],
          "name": "stderr"
        },
        {
          "output_type": "stream",
          "text": [
            "Epoch 2/10\n",
            "549/549 [==============================] - 32s 58ms/step - loss: 0.0539 - accuracy: 0.9367 - val_loss: 0.0501 - val_accuracy: 0.9880\n",
            "\n",
            " ROC-AUC - epoch: 2 - score: 0.981138\n",
            "\n",
            "Epoch 00002: val_loss improved from 0.05353 to 0.05013, saving model to /content/model_saved/\n"
          ],
          "name": "stdout"
        },
        {
          "output_type": "stream",
          "text": [
            "WARNING:absl:Found untraced functions such as gru_cell_1_layer_call_and_return_conditional_losses, gru_cell_1_layer_call_fn, gru_cell_2_layer_call_and_return_conditional_losses, gru_cell_2_layer_call_fn, lstm_cell_1_layer_call_and_return_conditional_losses while saving (showing 5 of 20). These functions will not be directly callable after loading.\n",
            "WARNING:absl:Found untraced functions such as gru_cell_1_layer_call_and_return_conditional_losses, gru_cell_1_layer_call_fn, gru_cell_2_layer_call_and_return_conditional_losses, gru_cell_2_layer_call_fn, lstm_cell_1_layer_call_and_return_conditional_losses while saving (showing 5 of 20). These functions will not be directly callable after loading.\n"
          ],
          "name": "stderr"
        },
        {
          "output_type": "stream",
          "text": [
            "INFO:tensorflow:Assets written to: /content/model_saved/assets\n"
          ],
          "name": "stdout"
        },
        {
          "output_type": "stream",
          "text": [
            "INFO:tensorflow:Assets written to: /content/model_saved/assets\n"
          ],
          "name": "stderr"
        },
        {
          "output_type": "stream",
          "text": [
            "Epoch 3/10\n",
            "549/549 [==============================] - 32s 58ms/step - loss: 0.0503 - accuracy: 0.9307 - val_loss: 0.0486 - val_accuracy: 0.9814\n",
            "\n",
            " ROC-AUC - epoch: 3 - score: 0.982795\n",
            "\n",
            "Epoch 00003: val_loss improved from 0.05013 to 0.04862, saving model to /content/model_saved/\n"
          ],
          "name": "stdout"
        },
        {
          "output_type": "stream",
          "text": [
            "WARNING:absl:Found untraced functions such as gru_cell_1_layer_call_and_return_conditional_losses, gru_cell_1_layer_call_fn, gru_cell_2_layer_call_and_return_conditional_losses, gru_cell_2_layer_call_fn, lstm_cell_1_layer_call_and_return_conditional_losses while saving (showing 5 of 20). These functions will not be directly callable after loading.\n",
            "WARNING:absl:Found untraced functions such as gru_cell_1_layer_call_and_return_conditional_losses, gru_cell_1_layer_call_fn, gru_cell_2_layer_call_and_return_conditional_losses, gru_cell_2_layer_call_fn, lstm_cell_1_layer_call_and_return_conditional_losses while saving (showing 5 of 20). These functions will not be directly callable after loading.\n"
          ],
          "name": "stderr"
        },
        {
          "output_type": "stream",
          "text": [
            "INFO:tensorflow:Assets written to: /content/model_saved/assets\n"
          ],
          "name": "stdout"
        },
        {
          "output_type": "stream",
          "text": [
            "INFO:tensorflow:Assets written to: /content/model_saved/assets\n"
          ],
          "name": "stderr"
        },
        {
          "output_type": "stream",
          "text": [
            "Epoch 4/10\n",
            "549/549 [==============================] - 32s 58ms/step - loss: 0.0464 - accuracy: 0.9331 - val_loss: 0.0469 - val_accuracy: 0.9813\n",
            "\n",
            " ROC-AUC - epoch: 4 - score: 0.983947\n",
            "\n",
            "Epoch 00004: val_loss improved from 0.04862 to 0.04692, saving model to /content/model_saved/\n"
          ],
          "name": "stdout"
        },
        {
          "output_type": "stream",
          "text": [
            "WARNING:absl:Found untraced functions such as gru_cell_1_layer_call_and_return_conditional_losses, gru_cell_1_layer_call_fn, gru_cell_2_layer_call_and_return_conditional_losses, gru_cell_2_layer_call_fn, lstm_cell_1_layer_call_and_return_conditional_losses while saving (showing 5 of 20). These functions will not be directly callable after loading.\n",
            "WARNING:absl:Found untraced functions such as gru_cell_1_layer_call_and_return_conditional_losses, gru_cell_1_layer_call_fn, gru_cell_2_layer_call_and_return_conditional_losses, gru_cell_2_layer_call_fn, lstm_cell_1_layer_call_and_return_conditional_losses while saving (showing 5 of 20). These functions will not be directly callable after loading.\n"
          ],
          "name": "stderr"
        },
        {
          "output_type": "stream",
          "text": [
            "INFO:tensorflow:Assets written to: /content/model_saved/assets\n"
          ],
          "name": "stdout"
        },
        {
          "output_type": "stream",
          "text": [
            "INFO:tensorflow:Assets written to: /content/model_saved/assets\n"
          ],
          "name": "stderr"
        },
        {
          "output_type": "stream",
          "text": [
            "Epoch 5/10\n",
            "549/549 [==============================] - 32s 58ms/step - loss: 0.0446 - accuracy: 0.9209 - val_loss: 0.0467 - val_accuracy: 0.9399\n",
            "\n",
            " ROC-AUC - epoch: 5 - score: 0.984590\n",
            "\n",
            "Epoch 00005: val_loss improved from 0.04692 to 0.04672, saving model to /content/model_saved/\n"
          ],
          "name": "stdout"
        },
        {
          "output_type": "stream",
          "text": [
            "WARNING:absl:Found untraced functions such as gru_cell_1_layer_call_and_return_conditional_losses, gru_cell_1_layer_call_fn, gru_cell_2_layer_call_and_return_conditional_losses, gru_cell_2_layer_call_fn, lstm_cell_1_layer_call_and_return_conditional_losses while saving (showing 5 of 20). These functions will not be directly callable after loading.\n",
            "WARNING:absl:Found untraced functions such as gru_cell_1_layer_call_and_return_conditional_losses, gru_cell_1_layer_call_fn, gru_cell_2_layer_call_and_return_conditional_losses, gru_cell_2_layer_call_fn, lstm_cell_1_layer_call_and_return_conditional_losses while saving (showing 5 of 20). These functions will not be directly callable after loading.\n"
          ],
          "name": "stderr"
        },
        {
          "output_type": "stream",
          "text": [
            "INFO:tensorflow:Assets written to: /content/model_saved/assets\n"
          ],
          "name": "stdout"
        },
        {
          "output_type": "stream",
          "text": [
            "INFO:tensorflow:Assets written to: /content/model_saved/assets\n"
          ],
          "name": "stderr"
        },
        {
          "output_type": "stream",
          "text": [
            "Epoch 6/10\n",
            "549/549 [==============================] - 32s 59ms/step - loss: 0.0431 - accuracy: 0.9209 - val_loss: 0.0460 - val_accuracy: 0.9761\n",
            "\n",
            " ROC-AUC - epoch: 6 - score: 0.984218\n",
            "\n",
            "Epoch 00006: val_loss improved from 0.04672 to 0.04598, saving model to /content/model_saved/\n"
          ],
          "name": "stdout"
        },
        {
          "output_type": "stream",
          "text": [
            "WARNING:absl:Found untraced functions such as gru_cell_1_layer_call_and_return_conditional_losses, gru_cell_1_layer_call_fn, gru_cell_2_layer_call_and_return_conditional_losses, gru_cell_2_layer_call_fn, lstm_cell_1_layer_call_and_return_conditional_losses while saving (showing 5 of 20). These functions will not be directly callable after loading.\n",
            "WARNING:absl:Found untraced functions such as gru_cell_1_layer_call_and_return_conditional_losses, gru_cell_1_layer_call_fn, gru_cell_2_layer_call_and_return_conditional_losses, gru_cell_2_layer_call_fn, lstm_cell_1_layer_call_and_return_conditional_losses while saving (showing 5 of 20). These functions will not be directly callable after loading.\n"
          ],
          "name": "stderr"
        },
        {
          "output_type": "stream",
          "text": [
            "INFO:tensorflow:Assets written to: /content/model_saved/assets\n"
          ],
          "name": "stdout"
        },
        {
          "output_type": "stream",
          "text": [
            "INFO:tensorflow:Assets written to: /content/model_saved/assets\n"
          ],
          "name": "stderr"
        },
        {
          "output_type": "stream",
          "text": [
            "Epoch 7/10\n",
            "549/549 [==============================] - 32s 59ms/step - loss: 0.0416 - accuracy: 0.9202 - val_loss: 0.0479 - val_accuracy: 0.9683\n",
            "\n",
            " ROC-AUC - epoch: 7 - score: 0.984694\n",
            "\n",
            "Epoch 00007: val_loss did not improve from 0.04598\n",
            "Epoch 8/10\n",
            "549/549 [==============================] - 32s 59ms/step - loss: 0.0395 - accuracy: 0.9129 - val_loss: 0.0466 - val_accuracy: 0.9069\n",
            "\n",
            " ROC-AUC - epoch: 8 - score: 0.984582\n",
            "\n",
            "Epoch 00008: val_loss did not improve from 0.04598\n",
            "Epoch 9/10\n",
            "549/549 [==============================] - 32s 58ms/step - loss: 0.0378 - accuracy: 0.9230 - val_loss: 0.0470 - val_accuracy: 0.7479\n",
            "\n",
            " ROC-AUC - epoch: 9 - score: 0.984677\n",
            "\n",
            "Epoch 00009: val_loss did not improve from 0.04598\n",
            "Epoch 10/10\n",
            "549/549 [==============================] - 32s 58ms/step - loss: 0.0360 - accuracy: 0.8912 - val_loss: 0.0476 - val_accuracy: 0.9005\n",
            "\n",
            " ROC-AUC - epoch: 10 - score: 0.984601\n",
            "\n",
            "Epoch 00010: val_loss did not improve from 0.04598\n"
          ],
          "name": "stdout"
        }
      ]
    },
    {
      "cell_type": "code",
      "metadata": {
        "id": "YEv4zSEJE3D4",
        "colab": {
          "base_uri": "https://localhost:8080/"
        },
        "outputId": "d64ff838-1741-4f46-fdd7-636cef2462f6"
      },
      "source": [
        "pred = model.predict(X_test, batch_size = 1024, verbose = 1)"
      ],
      "execution_count": null,
      "outputs": [
        {
          "output_type": "stream",
          "text": [
            "150/150 [==============================] - 9s 60ms/step\n"
          ],
          "name": "stdout"
        }
      ]
    },
    {
      "cell_type": "code",
      "metadata": {
        "id": "DIcssbzSh9Z_"
      },
      "source": [
        "dataset = pd.DataFrame({'toxic': pred[:, 0], 'severe_toxic': pred[:, 1],'obscene':pred[:,2],'threat':pred[:,3],\\\n",
        "                        'insult':pred[:,4],'identity_hate':pred[:,5]})"
      ],
      "execution_count": null,
      "outputs": []
    },
    {
      "cell_type": "code",
      "metadata": {
        "colab": {
          "base_uri": "https://localhost:8080/",
          "height": 204
        },
        "id": "V1ofidfdjjVr",
        "outputId": "b5bc9b1a-1185-45a4-d89c-c3210c628a6d"
      },
      "source": [
        "dataset.head()"
      ],
      "execution_count": null,
      "outputs": [
        {
          "output_type": "execute_result",
          "data": {
            "text/html": [
              "<div>\n",
              "<style scoped>\n",
              "    .dataframe tbody tr th:only-of-type {\n",
              "        vertical-align: middle;\n",
              "    }\n",
              "\n",
              "    .dataframe tbody tr th {\n",
              "        vertical-align: top;\n",
              "    }\n",
              "\n",
              "    .dataframe thead th {\n",
              "        text-align: right;\n",
              "    }\n",
              "</style>\n",
              "<table border=\"1\" class=\"dataframe\">\n",
              "  <thead>\n",
              "    <tr style=\"text-align: right;\">\n",
              "      <th></th>\n",
              "      <th>toxic</th>\n",
              "      <th>severe_toxic</th>\n",
              "      <th>obscene</th>\n",
              "      <th>threat</th>\n",
              "      <th>insult</th>\n",
              "      <th>identity_hate</th>\n",
              "    </tr>\n",
              "  </thead>\n",
              "  <tbody>\n",
              "    <tr>\n",
              "      <th>0</th>\n",
              "      <td>0.987107</td>\n",
              "      <td>0.249345</td>\n",
              "      <td>0.968569</td>\n",
              "      <td>0.046864</td>\n",
              "      <td>0.906077</td>\n",
              "      <td>0.664660</td>\n",
              "    </tr>\n",
              "    <tr>\n",
              "      <th>1</th>\n",
              "      <td>0.001132</td>\n",
              "      <td>0.000027</td>\n",
              "      <td>0.000468</td>\n",
              "      <td>0.000003</td>\n",
              "      <td>0.000189</td>\n",
              "      <td>0.000090</td>\n",
              "    </tr>\n",
              "    <tr>\n",
              "      <th>2</th>\n",
              "      <td>0.001800</td>\n",
              "      <td>0.000151</td>\n",
              "      <td>0.000506</td>\n",
              "      <td>0.000046</td>\n",
              "      <td>0.000368</td>\n",
              "      <td>0.000253</td>\n",
              "    </tr>\n",
              "    <tr>\n",
              "      <th>3</th>\n",
              "      <td>0.000614</td>\n",
              "      <td>0.000009</td>\n",
              "      <td>0.000192</td>\n",
              "      <td>0.000006</td>\n",
              "      <td>0.000169</td>\n",
              "      <td>0.000006</td>\n",
              "    </tr>\n",
              "    <tr>\n",
              "      <th>4</th>\n",
              "      <td>0.011134</td>\n",
              "      <td>0.000890</td>\n",
              "      <td>0.003992</td>\n",
              "      <td>0.000218</td>\n",
              "      <td>0.001787</td>\n",
              "      <td>0.000126</td>\n",
              "    </tr>\n",
              "  </tbody>\n",
              "</table>\n",
              "</div>"
            ],
            "text/plain": [
              "      toxic  severe_toxic   obscene    threat    insult  identity_hate\n",
              "0  0.987107      0.249345  0.968569  0.046864  0.906077       0.664660\n",
              "1  0.001132      0.000027  0.000468  0.000003  0.000189       0.000090\n",
              "2  0.001800      0.000151  0.000506  0.000046  0.000368       0.000253\n",
              "3  0.000614      0.000009  0.000192  0.000006  0.000169       0.000006\n",
              "4  0.011134      0.000890  0.003992  0.000218  0.001787       0.000126"
            ]
          },
          "metadata": {
            "tags": []
          },
          "execution_count": 82
        }
      ]
    },
    {
      "cell_type": "code",
      "metadata": {
        "id": "L_lmT15HjmGs"
      },
      "source": [
        "dataset['id'] = submission['id']"
      ],
      "execution_count": null,
      "outputs": []
    },
    {
      "cell_type": "code",
      "metadata": {
        "id": "GyF9VLRAjqQs"
      },
      "source": [
        "submission = dataset[['id','toxic','severe_toxic','obscene','threat','insult','identity_hate']]"
      ],
      "execution_count": null,
      "outputs": []
    },
    {
      "cell_type": "code",
      "metadata": {
        "id": "bOIARnsFjs17"
      },
      "source": [
        "submission_binary = submission"
      ],
      "execution_count": null,
      "outputs": []
    },
    {
      "cell_type": "code",
      "metadata": {
        "id": "NWk-VNZkiY3l"
      },
      "source": [
        "submission_binary.to_csv('/content/drive/MyDrive/Toxic_Comment_Detection/LSTM/submission_combined.csv', index=False)"
      ],
      "execution_count": null,
      "outputs": []
    },
    {
      "cell_type": "code",
      "metadata": {
        "colab": {
          "base_uri": "https://localhost:8080/"
        },
        "id": "v0iNycQ1moo2",
        "outputId": "08f12b81-4802-4e60-951c-151b82b25240"
      },
      "source": [
        "model.save('/content/drive/MyDrive/Toxic_Comment_Detection/LSTM/checkpoint')"
      ],
      "execution_count": null,
      "outputs": [
        {
          "output_type": "stream",
          "text": [
            "WARNING:absl:Found untraced functions such as gru_cell_1_layer_call_and_return_conditional_losses, gru_cell_1_layer_call_fn, gru_cell_2_layer_call_and_return_conditional_losses, gru_cell_2_layer_call_fn, lstm_cell_1_layer_call_and_return_conditional_losses while saving (showing 5 of 20). These functions will not be directly callable after loading.\n",
            "WARNING:absl:Found untraced functions such as gru_cell_1_layer_call_and_return_conditional_losses, gru_cell_1_layer_call_fn, gru_cell_2_layer_call_and_return_conditional_losses, gru_cell_2_layer_call_fn, lstm_cell_1_layer_call_and_return_conditional_losses while saving (showing 5 of 20). These functions will not be directly callable after loading.\n"
          ],
          "name": "stderr"
        },
        {
          "output_type": "stream",
          "text": [
            "INFO:tensorflow:Assets written to: /content/drive/MyDrive/Toxic_Comment_Detection/LSTM/checkpoint/assets\n"
          ],
          "name": "stdout"
        },
        {
          "output_type": "stream",
          "text": [
            "INFO:tensorflow:Assets written to: /content/drive/MyDrive/Toxic_Comment_Detection/LSTM/checkpoint/assets\n"
          ],
          "name": "stderr"
        }
      ]
    },
    {
      "cell_type": "code",
      "metadata": {
        "id": "o40ShVuIQ9Im"
      },
      "source": [
        ""
      ],
      "execution_count": null,
      "outputs": []
    }
  ]
}